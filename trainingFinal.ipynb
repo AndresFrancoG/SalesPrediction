{
 "cells": [
  {
   "cell_type": "markdown",
   "id": "4323df43-5df8-45fb-aaa7-e33b5d8368e2",
   "metadata": {},
   "source": [
    "# Training of Model"
   ]
  },
  {
   "cell_type": "markdown",
   "id": "6f2b59e5-51e1-4c45-876b-2db094f043b8",
   "metadata": {},
   "source": [
    "## Import libraries"
   ]
  },
  {
   "cell_type": "code",
   "execution_count": 1,
   "id": "b5d70419-c7db-4674-b4b0-02c1e91d07d3",
   "metadata": {},
   "outputs": [],
   "source": [
    "import pandas as pd\n",
    "import numpy as np\n",
    "import matplotlib.pyplot as plt"
   ]
  },
  {
   "cell_type": "markdown",
   "id": "81934eac-1654-4f85-83f5-4dda1ec5cb4a",
   "metadata": {},
   "source": [
    "## Load data"
   ]
  },
  {
   "cell_type": "code",
   "execution_count": 2,
   "id": "9e8e08cb-b3e9-41d2-a000-28ec4aa3c145",
   "metadata": {},
   "outputs": [],
   "source": [
    "trainD = pd.read_csv('Data/train.csv', parse_dates=['date'])"
   ]
  },
  {
   "cell_type": "markdown",
   "id": "2ef8c0fd",
   "metadata": {},
   "source": [
    "## Slicing for each family and store"
   ]
  },
  {
   "cell_type": "code",
   "execution_count": 4,
   "id": "fcf40f12",
   "metadata": {},
   "outputs": [],
   "source": [
    "#Categorical encoding for dates with categories\n",
    "\n",
    "#date\n",
    "Xaux = trainD['date'].astype('category').cat.codes\n",
    "trainD['date'] = Xaux\n",
    "\n",
    "\n",
    "\n",
    "fam_unq = trainD['family'].unique()\n",
    "store_unq = trainD['store_nbr'].unique()\n",
    "names_col = []\n",
    "data = []\n",
    "\n",
    "data.append(trainD['date'].unique())\n",
    "names_col.append('ds')\n",
    "\n",
    "for fam in fam_unq:\n",
    "    trainD_aux = trainD.loc[trainD['family']==fam]\n",
    "    for store in store_unq:\n",
    "        #data.append(trainD_aux['id'].loc[trainD['store_nbr']==store].to_list())\n",
    "        data.append(trainD_aux['sales'].loc[trainD['store_nbr']==store].to_list())\n",
    "        #names_col.append( fam + \",\" + str(store) + '_id')\n",
    "        names_col.append( fam + \",\" + str(store))\n",
    "\n",
    "data_t = list(map(list, zip(*data)))\n",
    "dataDF = pd.DataFrame(data_t,columns=names_col)\n"
   ]
  },
  {
   "cell_type": "markdown",
   "id": "e96234d2",
   "metadata": {},
   "source": [
    "## Training model"
   ]
  },
  {
   "cell_type": "code",
   "execution_count": 5,
   "id": "d9c95b18",
   "metadata": {
    "scrolled": true
   },
   "outputs": [],
   "source": [
    "n_series = len(dataDF)\n",
    "\n",
    "def shift_n(df,col,n_steps):\n",
    "    emp_list = df[col].shift(1, fill_value=0).to_list()\n",
    "    df_ret=pd.DataFrame(emp_list,columns=['0'])\n",
    "    for i in range(1,n_steps):\n",
    "        df_ret[str(i)]=df[col].shift(i+1, fill_value=0).to_list()\n",
    "    return df_ret\n",
    "\n",
    "\n",
    "#Gradient boosting regressor\n",
    "from sklearn.ensemble import GradientBoostingRegressor\n",
    "#MLP Regressor\n",
    "from sklearn.neural_network import MLPRegressor\n",
    "\n",
    "n_shifts = 40\n",
    "regr_list = []\n",
    "for column in dataDF.iloc[:,1:]:\n",
    "    data_X = shift_n(dataDF,column,n_shifts)\n",
    "    data_y = dataDF[column]\n",
    "    regr_list.append(GradientBoostingRegressor(n_estimators=100, learning_rate=0.2, \n",
    "                                random_state=0,loss='squared_error').fit(data_X, data_y))"
   ]
  },
  {
   "cell_type": "markdown",
   "id": "32a5d562",
   "metadata": {},
   "source": [
    "## Saves the model"
   ]
  },
  {
   "cell_type": "code",
   "execution_count": 6,
   "id": "85dad769",
   "metadata": {},
   "outputs": [
    {
     "data": {
      "text/plain": [
       "['storeSalesPredictionKaggle.sav']"
      ]
     },
     "execution_count": 6,
     "metadata": {},
     "output_type": "execute_result"
    }
   ],
   "source": [
    "import joblib\n",
    "\n",
    "filename = 'storeSalesPredictionKaggle.sav'\n",
    "joblib.dump(regr_list, filename)"
   ]
  },
  {
   "cell_type": "code",
   "execution_count": null,
   "id": "eef7f2ec",
   "metadata": {},
   "outputs": [],
   "source": []
  }
 ],
 "metadata": {
  "kernelspec": {
   "display_name": "Python 3 (ipykernel)",
   "language": "python",
   "name": "python3"
  },
  "language_info": {
   "codemirror_mode": {
    "name": "ipython",
    "version": 3
   },
   "file_extension": ".py",
   "mimetype": "text/x-python",
   "name": "python",
   "nbconvert_exporter": "python",
   "pygments_lexer": "ipython3",
   "version": "3.9.7"
  }
 },
 "nbformat": 4,
 "nbformat_minor": 5
}
