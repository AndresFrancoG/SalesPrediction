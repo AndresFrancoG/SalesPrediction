{
 "cells": [
  {
   "cell_type": "markdown",
   "id": "4323df43-5df8-45fb-aaa7-e33b5d8368e2",
   "metadata": {},
   "source": [
    "# Training of Model"
   ]
  },
  {
   "cell_type": "markdown",
   "id": "6f2b59e5-51e1-4c45-876b-2db094f043b8",
   "metadata": {},
   "source": [
    "## Import libraries"
   ]
  },
  {
   "cell_type": "code",
   "execution_count": 74,
   "id": "b5d70419-c7db-4674-b4b0-02c1e91d07d3",
   "metadata": {},
   "outputs": [],
   "source": [
    "import pandas as pd"
   ]
  },
  {
   "cell_type": "markdown",
   "id": "81934eac-1654-4f85-83f5-4dda1ec5cb4a",
   "metadata": {},
   "source": [
    "## Load data"
   ]
  },
  {
   "cell_type": "code",
   "execution_count": 75,
   "id": "9e8e08cb-b3e9-41d2-a000-28ec4aa3c145",
   "metadata": {},
   "outputs": [],
   "source": [
    "trainD = pd.read_csv('Data/train.csv', parse_dates=['date'])\n",
    "testD = pd.read_csv('Data/test.csv', parse_dates=['date'])\n",
    "isHoliday = pd.read_csv('Data/holidays_events.csv', parse_dates=['date'])"
   ]
  },
  {
   "cell_type": "code",
   "execution_count": 76,
   "id": "f9fd397d-df25-4bc3-a564-a6813f295435",
   "metadata": {},
   "outputs": [
    {
     "name": "stdout",
     "output_type": "stream",
     "text": [
      "<class 'pandas.core.frame.DataFrame'>\n",
      "RangeIndex: 3000888 entries, 0 to 3000887\n",
      "Data columns (total 6 columns):\n",
      " #   Column       Dtype         \n",
      "---  ------       -----         \n",
      " 0   id           int64         \n",
      " 1   date         datetime64[ns]\n",
      " 2   store_nbr    int64         \n",
      " 3   family       object        \n",
      " 4   sales        float64       \n",
      " 5   onpromotion  int64         \n",
      "dtypes: datetime64[ns](1), float64(1), int64(3), object(1)\n",
      "memory usage: 137.4+ MB\n"
     ]
    }
   ],
   "source": [
    "trainD.info()"
   ]
  },
  {
   "cell_type": "code",
   "execution_count": 77,
   "id": "9ec9b8ca",
   "metadata": {},
   "outputs": [
    {
     "name": "stdout",
     "output_type": "stream",
     "text": [
      "<class 'pandas.core.frame.DataFrame'>\n",
      "RangeIndex: 350 entries, 0 to 349\n",
      "Data columns (total 6 columns):\n",
      " #   Column       Non-Null Count  Dtype         \n",
      "---  ------       --------------  -----         \n",
      " 0   date         350 non-null    datetime64[ns]\n",
      " 1   type         350 non-null    object        \n",
      " 2   locale       350 non-null    object        \n",
      " 3   locale_name  350 non-null    object        \n",
      " 4   description  350 non-null    object        \n",
      " 5   transferred  350 non-null    bool          \n",
      "dtypes: bool(1), datetime64[ns](1), object(4)\n",
      "memory usage: 14.1+ KB\n"
     ]
    }
   ],
   "source": [
    "isHoliday.info()"
   ]
  },
  {
   "cell_type": "markdown",
   "id": "5d5e6c14-5695-4088-886b-dba7e399e35f",
   "metadata": {},
   "source": [
    "## Filters Earthquake dates"
   ]
  },
  {
   "cell_type": "code",
   "execution_count": 78,
   "id": "b617fd2c-0a5d-48b6-98a8-e3e3a0bd854f",
   "metadata": {},
   "outputs": [],
   "source": [
    "trainDWOEarthQuake = trainD[(trainD['date'] < '2016-04-16') | (trainD['date'] >= '2016-07-16')]"
   ]
  },
  {
   "cell_type": "markdown",
   "id": "214f3d28-3954-4ad4-a939-d19d5e2fdc3c",
   "metadata": {},
   "source": [
    "## Adds Holiday column"
   ]
  },
  {
   "cell_type": "code",
   "execution_count": 79,
   "id": "a3d8ca07-1300-4b52-8d47-02475ac1ccaf",
   "metadata": {},
   "outputs": [],
   "source": [
    "#Drops the rows related to holidays that were transferred\n",
    "isHoliday = isHoliday.drop(isHoliday[isHoliday.transferred == True].index)"
   ]
  },
  {
   "cell_type": "code",
   "execution_count": 7,
   "id": "c50b71f9-39b0-477c-becc-ab90749a3dd8",
   "metadata": {},
   "outputs": [
    {
     "name": "stderr",
     "output_type": "stream",
     "text": [
      "C:\\Users\\an2fe\\anaconda3v2\\lib\\site-packages\\pandas\\core\\indexing.py:1732: SettingWithCopyWarning: \n",
      "A value is trying to be set on a copy of a slice from a DataFrame\n",
      "\n",
      "See the caveats in the documentation: https://pandas.pydata.org/pandas-docs/stable/user_guide/indexing.html#returning-a-view-versus-a-copy\n",
      "  self._setitem_single_block(indexer, value, name)\n"
     ]
    }
   ],
   "source": [
    "#New column which assigns 1 if the date is holiday or 0 if is not.\n",
    "trainDWOEarthQuake = trainDWOEarthQuake.assign(is_holiday=0)\n",
    "\n",
    "#Makes a list with the ordered dates in holidays\n",
    "isHoliday = isHoliday.sort_values('date',ascending=True)\n",
    "holiday_dates = isHoliday['date'].to_list()\n",
    "\n",
    "i = 0\n",
    "\n",
    "for index, row in trainDWOEarthQuake.iterrows():\n",
    "    if row['date'].strftime('%Y-%m-%d') > holiday_dates[i].strftime('%Y-%m-%d'):\n",
    "        i+=1\n",
    "    if row['date'].strftime('%Y-%m-%d') == holiday_dates[i].strftime('%Y-%m-%d') and i < len(holiday_dates):\n",
    "        trainDWOEarthQuake['is_holiday'].loc[index]=1"
   ]
  },
  {
   "cell_type": "markdown",
   "id": "a7728009",
   "metadata": {},
   "source": [
    "## Adds store \"type\" column"
   ]
  },
  {
   "cell_type": "code",
   "execution_count": 80,
   "id": "54f0d237",
   "metadata": {
    "scrolled": true
   },
   "outputs": [
    {
     "name": "stdout",
     "output_type": "stream",
     "text": [
      "<class 'pandas.core.frame.DataFrame'>\n",
      "RangeIndex: 54 entries, 0 to 53\n",
      "Data columns (total 5 columns):\n",
      " #   Column     Non-Null Count  Dtype \n",
      "---  ------     --------------  ----- \n",
      " 0   store_nbr  54 non-null     int64 \n",
      " 1   city       54 non-null     object\n",
      " 2   state      54 non-null     object\n",
      " 3   type       54 non-null     object\n",
      " 4   cluster    54 non-null     int64 \n",
      "dtypes: int64(2), object(3)\n",
      "memory usage: 2.2+ KB\n"
     ]
    }
   ],
   "source": [
    "stores = pd.read_csv('Data/stores.csv')\n",
    "stores.info()"
   ]
  },
  {
   "cell_type": "code",
   "execution_count": 81,
   "id": "bfc1ef97",
   "metadata": {},
   "outputs": [
    {
     "name": "stderr",
     "output_type": "stream",
     "text": [
      "C:\\Users\\an2fe\\AppData\\Local\\Temp/ipykernel_4180/175584675.py:7: SettingWithCopyWarning: \n",
      "A value is trying to be set on a copy of a slice from a DataFrame.\n",
      "Try using .loc[row_indexer,col_indexer] = value instead\n",
      "\n",
      "See the caveats in the documentation: https://pandas.pydata.org/pandas-docs/stable/user_guide/indexing.html#returning-a-view-versus-a-copy\n",
      "  trainDWOEarthQuake['type']=trainDWOEarthQuake.apply(lambda row:type_fun(row),axis=1)\n"
     ]
    }
   ],
   "source": [
    "def type_fun(row):  \n",
    "    return stores['type'].loc[stores['store_nbr']==row['store_nbr']].to_list()[0]\n",
    "\n",
    "\n",
    "#stores.loc[stores['store_nbr']==trainDWOEarthQuake.loc[trainDWOEarthQuake['id']==0]['store_nbr']]\n",
    "#stores['type'].loc[stores['store_nbr']==trainDWOEarthQuake.loc[trainDWOEarthQuake['id']==0]['store_nbr'].to_list()[0]]\n",
    "trainDWOEarthQuake['type']=trainDWOEarthQuake.apply(lambda row:type_fun(row),axis=1)"
   ]
  },
  {
   "cell_type": "code",
   "execution_count": 82,
   "id": "16cc7d92",
   "metadata": {},
   "outputs": [
    {
     "data": {
      "text/html": [
       "<div>\n",
       "<style scoped>\n",
       "    .dataframe tbody tr th:only-of-type {\n",
       "        vertical-align: middle;\n",
       "    }\n",
       "\n",
       "    .dataframe tbody tr th {\n",
       "        vertical-align: top;\n",
       "    }\n",
       "\n",
       "    .dataframe thead th {\n",
       "        text-align: right;\n",
       "    }\n",
       "</style>\n",
       "<table border=\"1\" class=\"dataframe\">\n",
       "  <thead>\n",
       "    <tr style=\"text-align: right;\">\n",
       "      <th></th>\n",
       "      <th>id</th>\n",
       "      <th>date</th>\n",
       "      <th>store_nbr</th>\n",
       "      <th>family</th>\n",
       "      <th>sales</th>\n",
       "      <th>onpromotion</th>\n",
       "      <th>type</th>\n",
       "    </tr>\n",
       "  </thead>\n",
       "  <tbody>\n",
       "    <tr>\n",
       "      <th>0</th>\n",
       "      <td>0</td>\n",
       "      <td>2013-01-01</td>\n",
       "      <td>1</td>\n",
       "      <td>AUTOMOTIVE</td>\n",
       "      <td>0.0</td>\n",
       "      <td>0</td>\n",
       "      <td>D</td>\n",
       "    </tr>\n",
       "    <tr>\n",
       "      <th>1</th>\n",
       "      <td>1</td>\n",
       "      <td>2013-01-01</td>\n",
       "      <td>1</td>\n",
       "      <td>BABY CARE</td>\n",
       "      <td>0.0</td>\n",
       "      <td>0</td>\n",
       "      <td>D</td>\n",
       "    </tr>\n",
       "    <tr>\n",
       "      <th>2</th>\n",
       "      <td>2</td>\n",
       "      <td>2013-01-01</td>\n",
       "      <td>1</td>\n",
       "      <td>BEAUTY</td>\n",
       "      <td>0.0</td>\n",
       "      <td>0</td>\n",
       "      <td>D</td>\n",
       "    </tr>\n",
       "    <tr>\n",
       "      <th>3</th>\n",
       "      <td>3</td>\n",
       "      <td>2013-01-01</td>\n",
       "      <td>1</td>\n",
       "      <td>BEVERAGES</td>\n",
       "      <td>0.0</td>\n",
       "      <td>0</td>\n",
       "      <td>D</td>\n",
       "    </tr>\n",
       "    <tr>\n",
       "      <th>4</th>\n",
       "      <td>4</td>\n",
       "      <td>2013-01-01</td>\n",
       "      <td>1</td>\n",
       "      <td>BOOKS</td>\n",
       "      <td>0.0</td>\n",
       "      <td>0</td>\n",
       "      <td>D</td>\n",
       "    </tr>\n",
       "    <tr>\n",
       "      <th>5</th>\n",
       "      <td>5</td>\n",
       "      <td>2013-01-01</td>\n",
       "      <td>1</td>\n",
       "      <td>BREAD/BAKERY</td>\n",
       "      <td>0.0</td>\n",
       "      <td>0</td>\n",
       "      <td>D</td>\n",
       "    </tr>\n",
       "    <tr>\n",
       "      <th>6</th>\n",
       "      <td>6</td>\n",
       "      <td>2013-01-01</td>\n",
       "      <td>1</td>\n",
       "      <td>CELEBRATION</td>\n",
       "      <td>0.0</td>\n",
       "      <td>0</td>\n",
       "      <td>D</td>\n",
       "    </tr>\n",
       "    <tr>\n",
       "      <th>7</th>\n",
       "      <td>7</td>\n",
       "      <td>2013-01-01</td>\n",
       "      <td>1</td>\n",
       "      <td>CLEANING</td>\n",
       "      <td>0.0</td>\n",
       "      <td>0</td>\n",
       "      <td>D</td>\n",
       "    </tr>\n",
       "    <tr>\n",
       "      <th>8</th>\n",
       "      <td>8</td>\n",
       "      <td>2013-01-01</td>\n",
       "      <td>1</td>\n",
       "      <td>DAIRY</td>\n",
       "      <td>0.0</td>\n",
       "      <td>0</td>\n",
       "      <td>D</td>\n",
       "    </tr>\n",
       "    <tr>\n",
       "      <th>9</th>\n",
       "      <td>9</td>\n",
       "      <td>2013-01-01</td>\n",
       "      <td>1</td>\n",
       "      <td>DELI</td>\n",
       "      <td>0.0</td>\n",
       "      <td>0</td>\n",
       "      <td>D</td>\n",
       "    </tr>\n",
       "    <tr>\n",
       "      <th>10</th>\n",
       "      <td>10</td>\n",
       "      <td>2013-01-01</td>\n",
       "      <td>1</td>\n",
       "      <td>EGGS</td>\n",
       "      <td>0.0</td>\n",
       "      <td>0</td>\n",
       "      <td>D</td>\n",
       "    </tr>\n",
       "    <tr>\n",
       "      <th>11</th>\n",
       "      <td>11</td>\n",
       "      <td>2013-01-01</td>\n",
       "      <td>1</td>\n",
       "      <td>FROZEN FOODS</td>\n",
       "      <td>0.0</td>\n",
       "      <td>0</td>\n",
       "      <td>D</td>\n",
       "    </tr>\n",
       "    <tr>\n",
       "      <th>12</th>\n",
       "      <td>12</td>\n",
       "      <td>2013-01-01</td>\n",
       "      <td>1</td>\n",
       "      <td>GROCERY I</td>\n",
       "      <td>0.0</td>\n",
       "      <td>0</td>\n",
       "      <td>D</td>\n",
       "    </tr>\n",
       "    <tr>\n",
       "      <th>13</th>\n",
       "      <td>13</td>\n",
       "      <td>2013-01-01</td>\n",
       "      <td>1</td>\n",
       "      <td>GROCERY II</td>\n",
       "      <td>0.0</td>\n",
       "      <td>0</td>\n",
       "      <td>D</td>\n",
       "    </tr>\n",
       "    <tr>\n",
       "      <th>14</th>\n",
       "      <td>14</td>\n",
       "      <td>2013-01-01</td>\n",
       "      <td>1</td>\n",
       "      <td>HARDWARE</td>\n",
       "      <td>0.0</td>\n",
       "      <td>0</td>\n",
       "      <td>D</td>\n",
       "    </tr>\n",
       "    <tr>\n",
       "      <th>15</th>\n",
       "      <td>15</td>\n",
       "      <td>2013-01-01</td>\n",
       "      <td>1</td>\n",
       "      <td>HOME AND KITCHEN I</td>\n",
       "      <td>0.0</td>\n",
       "      <td>0</td>\n",
       "      <td>D</td>\n",
       "    </tr>\n",
       "    <tr>\n",
       "      <th>16</th>\n",
       "      <td>16</td>\n",
       "      <td>2013-01-01</td>\n",
       "      <td>1</td>\n",
       "      <td>HOME AND KITCHEN II</td>\n",
       "      <td>0.0</td>\n",
       "      <td>0</td>\n",
       "      <td>D</td>\n",
       "    </tr>\n",
       "    <tr>\n",
       "      <th>17</th>\n",
       "      <td>17</td>\n",
       "      <td>2013-01-01</td>\n",
       "      <td>1</td>\n",
       "      <td>HOME APPLIANCES</td>\n",
       "      <td>0.0</td>\n",
       "      <td>0</td>\n",
       "      <td>D</td>\n",
       "    </tr>\n",
       "    <tr>\n",
       "      <th>18</th>\n",
       "      <td>18</td>\n",
       "      <td>2013-01-01</td>\n",
       "      <td>1</td>\n",
       "      <td>HOME CARE</td>\n",
       "      <td>0.0</td>\n",
       "      <td>0</td>\n",
       "      <td>D</td>\n",
       "    </tr>\n",
       "    <tr>\n",
       "      <th>19</th>\n",
       "      <td>19</td>\n",
       "      <td>2013-01-01</td>\n",
       "      <td>1</td>\n",
       "      <td>LADIESWEAR</td>\n",
       "      <td>0.0</td>\n",
       "      <td>0</td>\n",
       "      <td>D</td>\n",
       "    </tr>\n",
       "    <tr>\n",
       "      <th>20</th>\n",
       "      <td>20</td>\n",
       "      <td>2013-01-01</td>\n",
       "      <td>1</td>\n",
       "      <td>LAWN AND GARDEN</td>\n",
       "      <td>0.0</td>\n",
       "      <td>0</td>\n",
       "      <td>D</td>\n",
       "    </tr>\n",
       "    <tr>\n",
       "      <th>21</th>\n",
       "      <td>21</td>\n",
       "      <td>2013-01-01</td>\n",
       "      <td>1</td>\n",
       "      <td>LINGERIE</td>\n",
       "      <td>0.0</td>\n",
       "      <td>0</td>\n",
       "      <td>D</td>\n",
       "    </tr>\n",
       "    <tr>\n",
       "      <th>22</th>\n",
       "      <td>22</td>\n",
       "      <td>2013-01-01</td>\n",
       "      <td>1</td>\n",
       "      <td>LIQUOR,WINE,BEER</td>\n",
       "      <td>0.0</td>\n",
       "      <td>0</td>\n",
       "      <td>D</td>\n",
       "    </tr>\n",
       "    <tr>\n",
       "      <th>23</th>\n",
       "      <td>23</td>\n",
       "      <td>2013-01-01</td>\n",
       "      <td>1</td>\n",
       "      <td>MAGAZINES</td>\n",
       "      <td>0.0</td>\n",
       "      <td>0</td>\n",
       "      <td>D</td>\n",
       "    </tr>\n",
       "    <tr>\n",
       "      <th>24</th>\n",
       "      <td>24</td>\n",
       "      <td>2013-01-01</td>\n",
       "      <td>1</td>\n",
       "      <td>MEATS</td>\n",
       "      <td>0.0</td>\n",
       "      <td>0</td>\n",
       "      <td>D</td>\n",
       "    </tr>\n",
       "    <tr>\n",
       "      <th>25</th>\n",
       "      <td>25</td>\n",
       "      <td>2013-01-01</td>\n",
       "      <td>1</td>\n",
       "      <td>PERSONAL CARE</td>\n",
       "      <td>0.0</td>\n",
       "      <td>0</td>\n",
       "      <td>D</td>\n",
       "    </tr>\n",
       "    <tr>\n",
       "      <th>26</th>\n",
       "      <td>26</td>\n",
       "      <td>2013-01-01</td>\n",
       "      <td>1</td>\n",
       "      <td>PET SUPPLIES</td>\n",
       "      <td>0.0</td>\n",
       "      <td>0</td>\n",
       "      <td>D</td>\n",
       "    </tr>\n",
       "    <tr>\n",
       "      <th>27</th>\n",
       "      <td>27</td>\n",
       "      <td>2013-01-01</td>\n",
       "      <td>1</td>\n",
       "      <td>PLAYERS AND ELECTRONICS</td>\n",
       "      <td>0.0</td>\n",
       "      <td>0</td>\n",
       "      <td>D</td>\n",
       "    </tr>\n",
       "    <tr>\n",
       "      <th>28</th>\n",
       "      <td>28</td>\n",
       "      <td>2013-01-01</td>\n",
       "      <td>1</td>\n",
       "      <td>POULTRY</td>\n",
       "      <td>0.0</td>\n",
       "      <td>0</td>\n",
       "      <td>D</td>\n",
       "    </tr>\n",
       "    <tr>\n",
       "      <th>29</th>\n",
       "      <td>29</td>\n",
       "      <td>2013-01-01</td>\n",
       "      <td>1</td>\n",
       "      <td>PREPARED FOODS</td>\n",
       "      <td>0.0</td>\n",
       "      <td>0</td>\n",
       "      <td>D</td>\n",
       "    </tr>\n",
       "  </tbody>\n",
       "</table>\n",
       "</div>"
      ],
      "text/plain": [
       "    id       date  store_nbr                   family  sales  onpromotion type\n",
       "0    0 2013-01-01          1               AUTOMOTIVE    0.0            0    D\n",
       "1    1 2013-01-01          1                BABY CARE    0.0            0    D\n",
       "2    2 2013-01-01          1                   BEAUTY    0.0            0    D\n",
       "3    3 2013-01-01          1                BEVERAGES    0.0            0    D\n",
       "4    4 2013-01-01          1                    BOOKS    0.0            0    D\n",
       "5    5 2013-01-01          1             BREAD/BAKERY    0.0            0    D\n",
       "6    6 2013-01-01          1              CELEBRATION    0.0            0    D\n",
       "7    7 2013-01-01          1                 CLEANING    0.0            0    D\n",
       "8    8 2013-01-01          1                    DAIRY    0.0            0    D\n",
       "9    9 2013-01-01          1                     DELI    0.0            0    D\n",
       "10  10 2013-01-01          1                     EGGS    0.0            0    D\n",
       "11  11 2013-01-01          1             FROZEN FOODS    0.0            0    D\n",
       "12  12 2013-01-01          1                GROCERY I    0.0            0    D\n",
       "13  13 2013-01-01          1               GROCERY II    0.0            0    D\n",
       "14  14 2013-01-01          1                 HARDWARE    0.0            0    D\n",
       "15  15 2013-01-01          1       HOME AND KITCHEN I    0.0            0    D\n",
       "16  16 2013-01-01          1      HOME AND KITCHEN II    0.0            0    D\n",
       "17  17 2013-01-01          1          HOME APPLIANCES    0.0            0    D\n",
       "18  18 2013-01-01          1                HOME CARE    0.0            0    D\n",
       "19  19 2013-01-01          1               LADIESWEAR    0.0            0    D\n",
       "20  20 2013-01-01          1          LAWN AND GARDEN    0.0            0    D\n",
       "21  21 2013-01-01          1                 LINGERIE    0.0            0    D\n",
       "22  22 2013-01-01          1         LIQUOR,WINE,BEER    0.0            0    D\n",
       "23  23 2013-01-01          1                MAGAZINES    0.0            0    D\n",
       "24  24 2013-01-01          1                    MEATS    0.0            0    D\n",
       "25  25 2013-01-01          1            PERSONAL CARE    0.0            0    D\n",
       "26  26 2013-01-01          1             PET SUPPLIES    0.0            0    D\n",
       "27  27 2013-01-01          1  PLAYERS AND ELECTRONICS    0.0            0    D\n",
       "28  28 2013-01-01          1                  POULTRY    0.0            0    D\n",
       "29  29 2013-01-01          1           PREPARED FOODS    0.0            0    D"
      ]
     },
     "execution_count": 82,
     "metadata": {},
     "output_type": "execute_result"
    }
   ],
   "source": [
    "trainDWOEarthQuake.head(30)"
   ]
  },
  {
   "cell_type": "markdown",
   "id": "2ef8c0fd",
   "metadata": {},
   "source": [
    "## Encoding"
   ]
  },
  {
   "cell_type": "code",
   "execution_count": 8,
   "id": "fcf40f12",
   "metadata": {},
   "outputs": [],
   "source": [
    "#Categorical encoding for variables with categories\n",
    "\n",
    "#family\n",
    "Xaux = trainDWOEarthQuake['family'].astype('category').cat.codes\n",
    "trainDWOEarthQuake['family'] = Xaux"
   ]
  },
  {
   "cell_type": "code",
   "execution_count": 25,
   "id": "502d68f3",
   "metadata": {},
   "outputs": [],
   "source": [
    "#New column day of year type int.  (Month-1)*31 + day\n",
    "trainDWOEarthQuake['month']=trainDWOEarthQuake.apply(lambda row: (int(row['date'].strftime('%m'))-1)*31 + int(row['date'].strftime('%d')),axis=1)\n"
   ]
  },
  {
   "cell_type": "markdown",
   "id": "92fa3b47",
   "metadata": {},
   "source": [
    "## Final training (X) and result (y) data"
   ]
  },
  {
   "cell_type": "code",
   "execution_count": 55,
   "id": "318596b7",
   "metadata": {},
   "outputs": [
    {
     "name": "stdout",
     "output_type": "stream",
     "text": [
      "<class 'pandas.core.frame.DataFrame'>\n",
      "Int64Index: 2838726 entries, 0 to 3000887\n",
      "Data columns (total 4 columns):\n",
      " #   Column       Dtype\n",
      "---  ------       -----\n",
      " 0   store_nbr    int64\n",
      " 1   family       int8 \n",
      " 2   onpromotion  int64\n",
      " 3   is_holiday   int64\n",
      "dtypes: int64(3), int8(1)\n",
      "memory usage: 89.3 MB\n"
     ]
    }
   ],
   "source": [
    "y = trainDWOEarthQuake['sales']\n",
    "\n",
    "X = trainDWOEarthQuake.drop(['id','date','sales','month','is_holiday'],axis=1)\n",
    "X.info()"
   ]
  },
  {
   "cell_type": "markdown",
   "id": "e96234d2",
   "metadata": {},
   "source": [
    "## Training model"
   ]
  },
  {
   "cell_type": "code",
   "execution_count": 56,
   "id": "e887b7d1",
   "metadata": {},
   "outputs": [],
   "source": [
    "# Min max normalization.  \n",
    "from sklearn.preprocessing import MinMaxScaler\n",
    "sc = MinMaxScaler()\n",
    "X = sc.fit_transform(X)\n",
    "\n",
    "\n",
    "#Split estratificado 80-20 entre datos de entreanmiento y de testeo\n",
    "from sklearn.model_selection import train_test_split\n",
    "X_train, X_test, y_train, y_test = train_test_split(X, y, test_size=0.2) "
   ]
  },
  {
   "cell_type": "code",
   "execution_count": 57,
   "id": "d9c95b18",
   "metadata": {},
   "outputs": [],
   "source": [
    "#MLP Regressor\n",
    "#from sklearn.neural_network import MLPRegressor\n",
    "#regr = MLPRegressor(random_state=1, max_iter=2000, learning_rate = 'adaptive',activation='logistic').fit(X_train, y_train)\n",
    "\n",
    "#Gradient boosting regressor\n",
    "from sklearn.ensemble import GradientBoostingRegressor\n",
    "regr = GradientBoostingRegressor(n_estimators=100, learning_rate=0.2, \n",
    "                                 random_state=0,loss='squared_error').fit(X_train, y_train)"
   ]
  },
  {
   "cell_type": "code",
   "execution_count": 58,
   "id": "2c6b448d",
   "metadata": {},
   "outputs": [
    {
     "name": "stdout",
     "output_type": "stream",
     "text": [
      "1702631      99.466\n",
      "2062195     962.000\n",
      "2359340     521.000\n",
      "515435        0.000\n",
      "2347645     459.000\n",
      "             ...   \n",
      "738129        0.000\n",
      "1068217    1271.000\n",
      "1788578      60.471\n",
      "2935765       2.000\n",
      "1618553       0.000\n",
      "Name: sales, Length: 567746, dtype: float64 [ 34.45078257 253.86437109 860.74668377 ... 337.0813111   -5.78959528\n",
      " -72.27787151]\n",
      "4.792218220177323\n",
      "[1.50979536e-01 5.04060592e-01 3.44925934e-01 3.39376800e-05]\n"
     ]
    }
   ],
   "source": [
    "#Test\n",
    "from sklearn.metrics import mean_squared_log_error\n",
    "#regr.score(X_test, y_test)\n",
    "y_pred = regr.predict(X_test)\n",
    "print(y_test,y_pred)\n",
    "\n",
    "for i in range(0,len(y_pred)):\n",
    "    if y_pred[i] < 0:\n",
    "        y_pred[i]=0\n",
    "\n",
    "print(mean_squared_log_error(y_test,y_pred))\n",
    "print(regr.feature_importances_)"
   ]
  },
  {
   "cell_type": "markdown",
   "id": "8c779d27",
   "metadata": {},
   "source": [
    "## Results\n",
    "- GradientBoostingRegressor(n_estimators=100, learning_rate=0.1, max_depth=1,                            random_state=0,loss='squared_error')  - 11.481437551723506\n",
    "- GradientBoostingRegressor(n_estimators=500, learning_rate=0.1, max_depth=1,random_state=0,loss='squared_error') - Negative values\n",
    "- GradientBoostingRegressor(n_estimators=100, learning_rate=0.2, max_depth=1,random_state=0,loss='squared_error') - 10.742646071889427\n",
    "- GradientBoostingRegressor(n_estimators=100, learning_rate=0.2, max_depth=1,                            random_state=0,loss='squared_error').fit(X_train, y_train) -  10.513907932848417.  store_nbr, family, and discount  \n",
    "- store_nbr, family, and discount. Negative values are taken as zero. GradientBoostingRegressor(n_estimators=100, learning_rate=0.2,random_state=0,loss='squared_error') - 4.851900010933088\n",
    "- store_nbr, family, and discount. Negative values are taken as zero. GradientBoostingRegressor(n_estimators=100, learning_rate=1.0,random_state=0,loss='squared_error') - 5.314085562035126\n",
    "- store_nbr, family, and discount. Negative values are taken as zero. GradientBoostingRegressor(n_estimators=100, learning_rate=0.5, random_state=0,loss='squared_error') - 5.035771953379746\n",
    "- store_nbr, family, and discount. Negative values are taken as zero. GradientBoostingRegressor(n_estimators=500, learning_rate=0.2, random_state=0,loss='squared_error') - 4.970273218735189\n",
    "- store_nbr, family, discount, and is_holiday. Negative values are taken as zero. GradientBoostingRegressor(n_estimators=500, learning_rate=0.2, random_state=0,loss='squared_error') - 4.970273218735189\n"
   ]
  },
  {
   "cell_type": "code",
   "execution_count": null,
   "id": "85dad769",
   "metadata": {},
   "outputs": [],
   "source": []
  }
 ],
 "metadata": {
  "kernelspec": {
   "display_name": "Python 3 (ipykernel)",
   "language": "python",
   "name": "python3"
  },
  "language_info": {
   "codemirror_mode": {
    "name": "ipython",
    "version": 3
   },
   "file_extension": ".py",
   "mimetype": "text/x-python",
   "name": "python",
   "nbconvert_exporter": "python",
   "pygments_lexer": "ipython3",
   "version": "3.9.7"
  }
 },
 "nbformat": 4,
 "nbformat_minor": 5
}
