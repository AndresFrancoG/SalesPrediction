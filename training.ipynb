{
 "cells": [
  {
   "cell_type": "markdown",
   "id": "4323df43-5df8-45fb-aaa7-e33b5d8368e2",
   "metadata": {},
   "source": [
    "# Training of Model"
   ]
  },
  {
   "cell_type": "markdown",
   "id": "6f2b59e5-51e1-4c45-876b-2db094f043b8",
   "metadata": {},
   "source": [
    "## Import libraries"
   ]
  },
  {
   "cell_type": "code",
   "execution_count": 1,
   "id": "b5d70419-c7db-4674-b4b0-02c1e91d07d3",
   "metadata": {},
   "outputs": [],
   "source": [
    "import pandas as pd"
   ]
  },
  {
   "cell_type": "markdown",
   "id": "81934eac-1654-4f85-83f5-4dda1ec5cb4a",
   "metadata": {},
   "source": [
    "## Load data"
   ]
  },
  {
   "cell_type": "code",
   "execution_count": 2,
   "id": "9e8e08cb-b3e9-41d2-a000-28ec4aa3c145",
   "metadata": {},
   "outputs": [],
   "source": [
    "trainD = pd.read_csv('Data/train.csv', parse_dates=['date'])\n",
    "testD = pd.read_csv('Data/test.csv', parse_dates=['date'])\n",
    "isHoliday = pd.read_csv('Data/holidays_events.csv', parse_dates=['date'])"
   ]
  },
  {
   "cell_type": "code",
   "execution_count": 3,
   "id": "f9fd397d-df25-4bc3-a564-a6813f295435",
   "metadata": {},
   "outputs": [
    {
     "name": "stdout",
     "output_type": "stream",
     "text": [
      "<class 'pandas.core.frame.DataFrame'>\n",
      "RangeIndex: 3000888 entries, 0 to 3000887\n",
      "Data columns (total 6 columns):\n",
      " #   Column       Dtype         \n",
      "---  ------       -----         \n",
      " 0   id           int64         \n",
      " 1   date         datetime64[ns]\n",
      " 2   store_nbr    int64         \n",
      " 3   family       object        \n",
      " 4   sales        float64       \n",
      " 5   onpromotion  int64         \n",
      "dtypes: datetime64[ns](1), float64(1), int64(3), object(1)\n",
      "memory usage: 137.4+ MB\n"
     ]
    }
   ],
   "source": [
    "trainD.info()"
   ]
  },
  {
   "cell_type": "code",
   "execution_count": 4,
   "id": "9ec9b8ca",
   "metadata": {},
   "outputs": [
    {
     "name": "stdout",
     "output_type": "stream",
     "text": [
      "<class 'pandas.core.frame.DataFrame'>\n",
      "RangeIndex: 350 entries, 0 to 349\n",
      "Data columns (total 6 columns):\n",
      " #   Column       Non-Null Count  Dtype         \n",
      "---  ------       --------------  -----         \n",
      " 0   date         350 non-null    datetime64[ns]\n",
      " 1   type         350 non-null    object        \n",
      " 2   locale       350 non-null    object        \n",
      " 3   locale_name  350 non-null    object        \n",
      " 4   description  350 non-null    object        \n",
      " 5   transferred  350 non-null    bool          \n",
      "dtypes: bool(1), datetime64[ns](1), object(4)\n",
      "memory usage: 14.1+ KB\n"
     ]
    }
   ],
   "source": [
    "isHoliday.info()"
   ]
  },
  {
   "cell_type": "markdown",
   "id": "5d5e6c14-5695-4088-886b-dba7e399e35f",
   "metadata": {},
   "source": [
    "## Filters Earthquake dates"
   ]
  },
  {
   "cell_type": "code",
   "execution_count": 5,
   "id": "b617fd2c-0a5d-48b6-98a8-e3e3a0bd854f",
   "metadata": {},
   "outputs": [],
   "source": [
    "trainDWOEarthQuake = trainD[(trainD['date'] < '2016-04-16') | (trainD['date'] >= '2016-07-16')]"
   ]
  },
  {
   "cell_type": "markdown",
   "id": "214f3d28-3954-4ad4-a939-d19d5e2fdc3c",
   "metadata": {},
   "source": [
    "## Adds Holiday column"
   ]
  },
  {
   "cell_type": "code",
   "execution_count": 6,
   "id": "a3d8ca07-1300-4b52-8d47-02475ac1ccaf",
   "metadata": {},
   "outputs": [],
   "source": [
    "#Drops the rows related to holidays that were transferred\n",
    "isHoliday = isHoliday.drop(isHoliday[isHoliday.transferred == True].index)"
   ]
  },
  {
   "cell_type": "code",
   "execution_count": 7,
   "id": "c50b71f9-39b0-477c-becc-ab90749a3dd8",
   "metadata": {},
   "outputs": [
    {
     "name": "stderr",
     "output_type": "stream",
     "text": [
      "C:\\Users\\an2fe\\anaconda3v2\\lib\\site-packages\\pandas\\core\\indexing.py:1732: SettingWithCopyWarning: \n",
      "A value is trying to be set on a copy of a slice from a DataFrame\n",
      "\n",
      "See the caveats in the documentation: https://pandas.pydata.org/pandas-docs/stable/user_guide/indexing.html#returning-a-view-versus-a-copy\n",
      "  self._setitem_single_block(indexer, value, name)\n"
     ]
    }
   ],
   "source": [
    "#New column which assigns 1 if the date is holiday or 0 if is not.\n",
    "trainDWOEarthQuake = trainDWOEarthQuake.assign(is_holiday=0)\n",
    "\n",
    "#Makes a list with the ordered dates in holidays\n",
    "isHoliday = isHoliday.sort_values('date',ascending=True)\n",
    "holiday_dates = isHoliday['date'].to_list()\n",
    "\n",
    "i = 0\n",
    "\n",
    "for index, row in trainDWOEarthQuake.iterrows():\n",
    "    if row['date'].strftime('%Y-%m-%d') > holiday_dates[i].strftime('%Y-%m-%d'):\n",
    "        i+=1\n",
    "    if row['date'].strftime('%Y-%m-%d') == holiday_dates[i].strftime('%Y-%m-%d') and i < len(holiday_dates):\n",
    "        trainDWOEarthQuake['is_holiday'].loc[index]=1"
   ]
  },
  {
   "cell_type": "markdown",
   "id": "2ef8c0fd",
   "metadata": {},
   "source": [
    "## Encoding"
   ]
  },
  {
   "cell_type": "code",
   "execution_count": 8,
   "id": "fcf40f12",
   "metadata": {},
   "outputs": [],
   "source": [
    "#Categorical encoding for variables with categories\n",
    "\n",
    "#family\n",
    "Xaux = trainDWOEarthQuake['family'].astype('category').cat.codes\n",
    "trainDWOEarthQuake['family'] = Xaux"
   ]
  },
  {
   "cell_type": "code",
   "execution_count": 9,
   "id": "502d68f3",
   "metadata": {},
   "outputs": [],
   "source": [
    "#New column month of sale type int\n",
    "trainDWOEarthQuake['month']=trainDWOEarthQuake.apply(lambda row: int(row['date'].strftime('%m')),axis=1)\n"
   ]
  },
  {
   "cell_type": "markdown",
   "id": "92fa3b47",
   "metadata": {},
   "source": [
    "## Final training (X) and result (y) data"
   ]
  },
  {
   "cell_type": "code",
   "execution_count": 10,
   "id": "318596b7",
   "metadata": {},
   "outputs": [
    {
     "name": "stdout",
     "output_type": "stream",
     "text": [
      "<class 'pandas.core.frame.DataFrame'>\n",
      "Int64Index: 2838726 entries, 0 to 3000887\n",
      "Data columns (total 6 columns):\n",
      " #   Column       Dtype\n",
      "---  ------       -----\n",
      " 0   id           int64\n",
      " 1   store_nbr    int64\n",
      " 2   family       int8 \n",
      " 3   onpromotion  int64\n",
      " 4   is_holiday   int64\n",
      " 5   month        int64\n",
      "dtypes: int64(5), int8(1)\n",
      "memory usage: 132.7 MB\n"
     ]
    }
   ],
   "source": [
    "y = trainDWOEarthQuake['sales']\n",
    "\n",
    "X = trainDWOEarthQuake.drop(['date','sales'],axis=1)\n",
    "X.info()"
   ]
  },
  {
   "cell_type": "markdown",
   "id": "e96234d2",
   "metadata": {},
   "source": [
    "## Training model"
   ]
  },
  {
   "cell_type": "code",
   "execution_count": 11,
   "id": "d9c95b18",
   "metadata": {},
   "outputs": [],
   "source": [
    "# Min max normalization.  \n",
    "from sklearn.preprocessing import MinMaxScaler\n",
    "sc = MinMaxScaler()\n",
    "X = sc.fit_transform(X)\n",
    "\n",
    "\n",
    "#Split estratificado 80-20 entre datos de entreanmiento y de testeo\n",
    "from sklearn.model_selection import train_test_split\n",
    "X_train, X_test, y_train, y_test = train_test_split(X, y, test_size=0.2) \n",
    "\n",
    "\n",
    "\n",
    "\n",
    "#MLP Regressor\n",
    "#from sklearn.neural_network import MLPRegressor\n",
    "#regr = MLPRegressor(random_state=1, max_iter=2000, learning_rate = 'adaptive',activation='logistic').fit(X_train, y_train)\n",
    "\n",
    "#Gradient boosting regressor\n",
    "from sklearn.ensemble import GradientBoostingRegressor\n",
    "regr = GradientBoostingRegressor(n_estimators=100, learning_rate=0.1, max_depth=1, \n",
    "                                 random_state=0,loss='squared_error').fit(X_train, y_train)"
   ]
  },
  {
   "cell_type": "code",
   "execution_count": 12,
   "id": "2c6b448d",
   "metadata": {},
   "outputs": [
    {
     "name": "stdout",
     "output_type": "stream",
     "text": [
      "[1334.81130389  338.14187636  233.4443923  ... 1080.30504704   93.26034225\n",
      "  338.14187636]\n",
      "2648060     841.000\n",
      "385345        0.000\n",
      "1416524       4.000\n",
      "2002569    6974.713\n",
      "353888       95.009\n",
      "             ...   \n",
      "486856     1095.000\n",
      "1324788     478.000\n",
      "1796985    6359.000\n",
      "394144      117.000\n",
      "1416963     626.000\n",
      "Name: sales, Length: 567746, dtype: float64\n"
     ]
    }
   ],
   "source": [
    "#Test\n",
    "from sklearn.metrics import mean_squared_log_error\n",
    "#regr.score(X_test, y_test)\n",
    "print(regr.predict(X_test))\n",
    "print(y_test)\n",
    "mean_squared_log_error(y_test,y_pred)"
   ]
  },
  {
   "cell_type": "code",
   "execution_count": null,
   "id": "5365fcbf",
   "metadata": {},
   "outputs": [],
   "source": []
  }
 ],
 "metadata": {
  "kernelspec": {
   "display_name": "Python 3 (ipykernel)",
   "language": "python",
   "name": "python3"
  },
  "language_info": {
   "codemirror_mode": {
    "name": "ipython",
    "version": 3
   },
   "file_extension": ".py",
   "mimetype": "text/x-python",
   "name": "python",
   "nbconvert_exporter": "python",
   "pygments_lexer": "ipython3",
   "version": "3.9.7"
  }
 },
 "nbformat": 4,
 "nbformat_minor": 5
}
