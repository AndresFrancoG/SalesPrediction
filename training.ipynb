{
 "cells": [
  {
   "cell_type": "markdown",
   "id": "4323df43-5df8-45fb-aaa7-e33b5d8368e2",
   "metadata": {},
   "source": [
    "# Training of Model"
   ]
  },
  {
   "cell_type": "markdown",
   "id": "6f2b59e5-51e1-4c45-876b-2db094f043b8",
   "metadata": {},
   "source": [
    "## Import libraries"
   ]
  },
  {
   "cell_type": "code",
   "execution_count": 1,
   "id": "b5d70419-c7db-4674-b4b0-02c1e91d07d3",
   "metadata": {},
   "outputs": [],
   "source": [
    "import pandas as pd"
   ]
  },
  {
   "cell_type": "markdown",
   "id": "81934eac-1654-4f85-83f5-4dda1ec5cb4a",
   "metadata": {},
   "source": [
    "## Load data"
   ]
  },
  {
   "cell_type": "code",
   "execution_count": 2,
   "id": "9e8e08cb-b3e9-41d2-a000-28ec4aa3c145",
   "metadata": {},
   "outputs": [],
   "source": [
    "trainD = pd.read_csv('Data/train.csv', parse_dates=['date'])\n",
    "testD = pd.read_csv('Data/test.csv', parse_dates=['date'])\n",
    "isHoliday = pd.read_csv('Data/holidays_events.csv', parse_dates=['date'])"
   ]
  },
  {
   "cell_type": "code",
   "execution_count": 3,
   "id": "f9fd397d-df25-4bc3-a564-a6813f295435",
   "metadata": {},
   "outputs": [
    {
     "data": {
      "text/html": [
       "<div>\n",
       "<style scoped>\n",
       "    .dataframe tbody tr th:only-of-type {\n",
       "        vertical-align: middle;\n",
       "    }\n",
       "\n",
       "    .dataframe tbody tr th {\n",
       "        vertical-align: top;\n",
       "    }\n",
       "\n",
       "    .dataframe thead th {\n",
       "        text-align: right;\n",
       "    }\n",
       "</style>\n",
       "<table border=\"1\" class=\"dataframe\">\n",
       "  <thead>\n",
       "    <tr style=\"text-align: right;\">\n",
       "      <th></th>\n",
       "      <th>id</th>\n",
       "      <th>date</th>\n",
       "      <th>store_nbr</th>\n",
       "      <th>family</th>\n",
       "      <th>sales</th>\n",
       "      <th>onpromotion</th>\n",
       "    </tr>\n",
       "  </thead>\n",
       "  <tbody>\n",
       "    <tr>\n",
       "      <th>0</th>\n",
       "      <td>0</td>\n",
       "      <td>2013-01-01</td>\n",
       "      <td>1</td>\n",
       "      <td>AUTOMOTIVE</td>\n",
       "      <td>0.0</td>\n",
       "      <td>0</td>\n",
       "    </tr>\n",
       "    <tr>\n",
       "      <th>1</th>\n",
       "      <td>1</td>\n",
       "      <td>2013-01-01</td>\n",
       "      <td>1</td>\n",
       "      <td>BABY CARE</td>\n",
       "      <td>0.0</td>\n",
       "      <td>0</td>\n",
       "    </tr>\n",
       "    <tr>\n",
       "      <th>2</th>\n",
       "      <td>2</td>\n",
       "      <td>2013-01-01</td>\n",
       "      <td>1</td>\n",
       "      <td>BEAUTY</td>\n",
       "      <td>0.0</td>\n",
       "      <td>0</td>\n",
       "    </tr>\n",
       "    <tr>\n",
       "      <th>3</th>\n",
       "      <td>3</td>\n",
       "      <td>2013-01-01</td>\n",
       "      <td>1</td>\n",
       "      <td>BEVERAGES</td>\n",
       "      <td>0.0</td>\n",
       "      <td>0</td>\n",
       "    </tr>\n",
       "    <tr>\n",
       "      <th>4</th>\n",
       "      <td>4</td>\n",
       "      <td>2013-01-01</td>\n",
       "      <td>1</td>\n",
       "      <td>BOOKS</td>\n",
       "      <td>0.0</td>\n",
       "      <td>0</td>\n",
       "    </tr>\n",
       "  </tbody>\n",
       "</table>\n",
       "</div>"
      ],
      "text/plain": [
       "   id       date  store_nbr      family  sales  onpromotion\n",
       "0   0 2013-01-01          1  AUTOMOTIVE    0.0            0\n",
       "1   1 2013-01-01          1   BABY CARE    0.0            0\n",
       "2   2 2013-01-01          1      BEAUTY    0.0            0\n",
       "3   3 2013-01-01          1   BEVERAGES    0.0            0\n",
       "4   4 2013-01-01          1       BOOKS    0.0            0"
      ]
     },
     "execution_count": 3,
     "metadata": {},
     "output_type": "execute_result"
    }
   ],
   "source": [
    "trainD.head()"
   ]
  },
  {
   "cell_type": "markdown",
   "id": "5d5e6c14-5695-4088-886b-dba7e399e35f",
   "metadata": {},
   "source": [
    "## Filters Earthquake dates"
   ]
  },
  {
   "cell_type": "code",
   "execution_count": 4,
   "id": "b617fd2c-0a5d-48b6-98a8-e3e3a0bd854f",
   "metadata": {},
   "outputs": [],
   "source": [
    "trainDWOEarthQuake = trainD[(trainD['date'] < '2016-04-16') | (trainD['date'] >= '2016-07-16')]"
   ]
  },
  {
   "cell_type": "markdown",
   "id": "214f3d28-3954-4ad4-a939-d19d5e2fdc3c",
   "metadata": {},
   "source": [
    "## Adds Holiday column"
   ]
  },
  {
   "cell_type": "code",
   "execution_count": 5,
   "id": "a3d8ca07-1300-4b52-8d47-02475ac1ccaf",
   "metadata": {},
   "outputs": [
    {
     "name": "stdout",
     "output_type": "stream",
     "text": [
      "<class 'pandas.core.frame.DataFrame'>\n",
      "Int64Index: 338 entries, 0 to 349\n",
      "Data columns (total 6 columns):\n",
      " #   Column       Non-Null Count  Dtype         \n",
      "---  ------       --------------  -----         \n",
      " 0   date         338 non-null    datetime64[ns]\n",
      " 1   type         338 non-null    object        \n",
      " 2   locale       338 non-null    object        \n",
      " 3   locale_name  338 non-null    object        \n",
      " 4   description  338 non-null    object        \n",
      " 5   transferred  338 non-null    bool          \n",
      "dtypes: bool(1), datetime64[ns](1), object(4)\n",
      "memory usage: 16.2+ KB\n"
     ]
    }
   ],
   "source": [
    "isHoliday = isHoliday.drop(isHoliday[isHoliday.transferred == True].index)\n",
    "isHoliday.info()"
   ]
  },
  {
   "cell_type": "code",
   "execution_count": null,
   "id": "c50b71f9-39b0-477c-becc-ab90749a3dd8",
   "metadata": {},
   "outputs": [],
   "source": [
    "trainDWOEarthQuake = trainDWOEarthQuake.assign(is_holiday=False)\n",
    "trainDWOEarthQuake.loc[trainDWOEarthQuake.apply(lambda x: x.date in isHoliday['date'].to_list(), axis=1), 'is_holiday'] = True"
   ]
  },
  {
   "cell_type": "code",
   "execution_count": 7,
   "id": "84792228-bcca-4219-ac8b-b8e43476cce7",
   "metadata": {},
   "outputs": [
    {
     "name": "stdout",
     "output_type": "stream",
     "text": [
      "<class 'pandas.core.frame.DataFrame'>\n",
      "Int64Index: 2838726 entries, 0 to 3000887\n",
      "Data columns (total 7 columns):\n",
      " #   Column       Dtype         \n",
      "---  ------       -----         \n",
      " 0   id           int64         \n",
      " 1   date         datetime64[ns]\n",
      " 2   store_nbr    int64         \n",
      " 3   family       object        \n",
      " 4   sales        float64       \n",
      " 5   onpromotion  int64         \n",
      " 6   is_holiday   bool          \n",
      "dtypes: bool(1), datetime64[ns](1), float64(1), int64(3), object(1)\n",
      "memory usage: 154.3+ MB\n"
     ]
    }
   ],
   "source": [
    "trainDWOEarthQuake.info()"
   ]
  },
  {
   "cell_type": "code",
   "execution_count": 8,
   "id": "72b4d0d2-7c5c-4b1c-a2b3-581610e53ce7",
   "metadata": {},
   "outputs": [
    {
     "name": "stdout",
     "output_type": "stream",
     "text": [
      "<class 'pandas.core.frame.DataFrame'>\n",
      "RangeIndex: 28512 entries, 0 to 28511\n",
      "Data columns (total 6 columns):\n",
      " #   Column       Non-Null Count  Dtype         \n",
      "---  ------       --------------  -----         \n",
      " 0   id           28512 non-null  int64         \n",
      " 1   date         28512 non-null  datetime64[ns]\n",
      " 2   store_nbr    28512 non-null  int64         \n",
      " 3   family       28512 non-null  object        \n",
      " 4   onpromotion  28512 non-null  int64         \n",
      " 5   is_holiday   28512 non-null  bool          \n",
      "dtypes: bool(1), datetime64[ns](1), int64(3), object(1)\n",
      "memory usage: 1.1+ MB\n"
     ]
    }
   ],
   "source": [
    "testD = testD.assign(is_holiday=False)\n",
    "testD.loc[testD.apply(lambda x: x.date in isHoliday['date'].to_list(), axis=1), 'is_holiday'] = True\n",
    "testD.info()"
   ]
  },
  {
   "cell_type": "code",
   "execution_count": null,
   "id": "0f3e53d5-50cc-4cb6-87c4-85d518f3f07d",
   "metadata": {},
   "outputs": [],
   "source": []
  }
 ],
 "metadata": {
  "kernelspec": {
   "display_name": "Python 3 (ipykernel)",
   "language": "python",
   "name": "python3"
  },
  "language_info": {
   "codemirror_mode": {
    "name": "ipython",
    "version": 3
   },
   "file_extension": ".py",
   "mimetype": "text/x-python",
   "name": "python",
   "nbconvert_exporter": "python",
   "pygments_lexer": "ipython3",
   "version": "3.9.7"
  }
 },
 "nbformat": 4,
 "nbformat_minor": 5
}
