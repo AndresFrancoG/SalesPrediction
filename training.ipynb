{
 "cells": [
  {
   "cell_type": "markdown",
   "id": "4323df43-5df8-45fb-aaa7-e33b5d8368e2",
   "metadata": {},
   "source": [
    "# Training of Model"
   ]
  },
  {
   "cell_type": "markdown",
   "id": "6f2b59e5-51e1-4c45-876b-2db094f043b8",
   "metadata": {},
   "source": [
    "## Import libraries"
   ]
  },
  {
   "cell_type": "code",
   "execution_count": 1,
   "id": "b5d70419-c7db-4674-b4b0-02c1e91d07d3",
   "metadata": {},
   "outputs": [],
   "source": [
    "import pandas as pd\n",
    "import numpy as np"
   ]
  },
  {
   "cell_type": "markdown",
   "id": "81934eac-1654-4f85-83f5-4dda1ec5cb4a",
   "metadata": {},
   "source": [
    "## Load data"
   ]
  },
  {
   "cell_type": "code",
   "execution_count": 2,
   "id": "9e8e08cb-b3e9-41d2-a000-28ec4aa3c145",
   "metadata": {},
   "outputs": [],
   "source": [
    "trainD = pd.read_csv('Data/train.csv', parse_dates=['date'])\n",
    "testD = pd.read_csv('Data/test.csv', parse_dates=['date'])\n",
    "isHoliday = pd.read_csv('Data/holidays_events.csv', parse_dates=['date'])"
   ]
  },
  {
   "cell_type": "code",
   "execution_count": 3,
   "id": "f9fd397d-df25-4bc3-a564-a6813f295435",
   "metadata": {},
   "outputs": [
    {
     "name": "stdout",
     "output_type": "stream",
     "text": [
      "<class 'pandas.core.frame.DataFrame'>\n",
      "RangeIndex: 3000888 entries, 0 to 3000887\n",
      "Data columns (total 6 columns):\n",
      " #   Column       Dtype         \n",
      "---  ------       -----         \n",
      " 0   id           int64         \n",
      " 1   date         datetime64[ns]\n",
      " 2   store_nbr    int64         \n",
      " 3   family       object        \n",
      " 4   sales        float64       \n",
      " 5   onpromotion  int64         \n",
      "dtypes: datetime64[ns](1), float64(1), int64(3), object(1)\n",
      "memory usage: 137.4+ MB\n"
     ]
    }
   ],
   "source": [
    "trainD.info()"
   ]
  },
  {
   "cell_type": "code",
   "execution_count": 4,
   "id": "9ec9b8ca",
   "metadata": {},
   "outputs": [
    {
     "name": "stdout",
     "output_type": "stream",
     "text": [
      "<class 'pandas.core.frame.DataFrame'>\n",
      "RangeIndex: 350 entries, 0 to 349\n",
      "Data columns (total 6 columns):\n",
      " #   Column       Non-Null Count  Dtype         \n",
      "---  ------       --------------  -----         \n",
      " 0   date         350 non-null    datetime64[ns]\n",
      " 1   type         350 non-null    object        \n",
      " 2   locale       350 non-null    object        \n",
      " 3   locale_name  350 non-null    object        \n",
      " 4   description  350 non-null    object        \n",
      " 5   transferred  350 non-null    bool          \n",
      "dtypes: bool(1), datetime64[ns](1), object(4)\n",
      "memory usage: 14.1+ KB\n"
     ]
    }
   ],
   "source": [
    "isHoliday.info()"
   ]
  },
  {
   "cell_type": "markdown",
   "id": "5d5e6c14-5695-4088-886b-dba7e399e35f",
   "metadata": {},
   "source": [
    "## Filters Earthquake dates"
   ]
  },
  {
   "cell_type": "code",
   "execution_count": 5,
   "id": "b617fd2c-0a5d-48b6-98a8-e3e3a0bd854f",
   "metadata": {},
   "outputs": [],
   "source": [
    "trainDWOEarthQuake = trainD[(trainD['date'] < '2016-04-16') | (trainD['date'] >= '2016-07-16')]"
   ]
  },
  {
   "cell_type": "markdown",
   "id": "214f3d28-3954-4ad4-a939-d19d5e2fdc3c",
   "metadata": {},
   "source": [
    "## Adds Holiday column - Dropped as is not taken into account in the training"
   ]
  },
  {
   "cell_type": "code",
   "execution_count": 6,
   "id": "a3d8ca07-1300-4b52-8d47-02475ac1ccaf",
   "metadata": {},
   "outputs": [],
   "source": [
    "#Drops the rows related to holidays that were transferred\n",
    "isHoliday = isHoliday.drop(isHoliday[isHoliday.transferred == True].index)"
   ]
  },
  {
   "cell_type": "code",
   "execution_count": 7,
   "id": "c50b71f9-39b0-477c-becc-ab90749a3dd8",
   "metadata": {},
   "outputs": [],
   "source": [
    "#New column which assigns 1 if the date is holiday or 0 if is not.\n",
    "#trainDWOEarthQuake = trainDWOEarthQuake.assign(is_holiday=0)\n",
    "\n",
    "#Makes a list with the ordered dates in holidays\n",
    "#isHoliday = isHoliday.sort_values('date',ascending=True)\n",
    "#holiday_dates = isHoliday['date'].to_list()\n",
    "\n",
    "#i = 0\n",
    "\n",
    "#for index, row in trainDWOEarthQuake.iterrows():\n",
    "#    if row['date'].strftime('%Y-%m-%d') > holiday_dates[i].strftime('%Y-%m-%d'):\n",
    "#        i+=1\n",
    "#    if row['date'].strftime('%Y-%m-%d') == holiday_dates[i].strftime('%Y-%m-%d') and i < len(holiday_dates):\n",
    "#        trainDWOEarthQuake['is_holiday'].loc[index]=1"
   ]
  },
  {
   "cell_type": "markdown",
   "id": "a7728009",
   "metadata": {},
   "source": [
    "## Adds store \"type\" column"
   ]
  },
  {
   "cell_type": "code",
   "execution_count": 8,
   "id": "54f0d237",
   "metadata": {
    "scrolled": false
   },
   "outputs": [
    {
     "name": "stdout",
     "output_type": "stream",
     "text": [
      "<class 'pandas.core.frame.DataFrame'>\n",
      "RangeIndex: 54 entries, 0 to 53\n",
      "Data columns (total 5 columns):\n",
      " #   Column     Non-Null Count  Dtype \n",
      "---  ------     --------------  ----- \n",
      " 0   store_nbr  54 non-null     int64 \n",
      " 1   city       54 non-null     object\n",
      " 2   state      54 non-null     object\n",
      " 3   type       54 non-null     object\n",
      " 4   cluster    54 non-null     int64 \n",
      "dtypes: int64(2), object(3)\n",
      "memory usage: 2.2+ KB\n"
     ]
    }
   ],
   "source": [
    "stores = pd.read_csv('Data/stores.csv')\n",
    "stores.info()"
   ]
  },
  {
   "cell_type": "code",
   "execution_count": 9,
   "id": "127bd9bc",
   "metadata": {},
   "outputs": [
    {
     "name": "stderr",
     "output_type": "stream",
     "text": [
      "C:\\Users\\an2fe\\AppData\\Local\\Temp/ipykernel_2260/870488949.py:1: SettingWithCopyWarning: \n",
      "A value is trying to be set on a copy of a slice from a DataFrame.\n",
      "Try using .loc[row_indexer,col_indexer] = value instead\n",
      "\n",
      "See the caveats in the documentation: https://pandas.pydata.org/pandas-docs/stable/user_guide/indexing.html#returning-a-view-versus-a-copy\n",
      "  trainDWOEarthQuake['type']=trainDWOEarthQuake['store_nbr'].map(stores.set_index('store_nbr')['type'].to_dict())\n"
     ]
    }
   ],
   "source": [
    "trainDWOEarthQuake['type']=trainDWOEarthQuake['store_nbr'].map(stores.set_index('store_nbr')['type'].to_dict())"
   ]
  },
  {
   "cell_type": "markdown",
   "id": "df5b25c5",
   "metadata": {},
   "source": [
    "## Adds store \"city\" column"
   ]
  },
  {
   "cell_type": "code",
   "execution_count": 10,
   "id": "1d3ff6e6",
   "metadata": {},
   "outputs": [
    {
     "name": "stderr",
     "output_type": "stream",
     "text": [
      "C:\\Users\\an2fe\\AppData\\Local\\Temp/ipykernel_2260/2275855103.py:1: SettingWithCopyWarning: \n",
      "A value is trying to be set on a copy of a slice from a DataFrame.\n",
      "Try using .loc[row_indexer,col_indexer] = value instead\n",
      "\n",
      "See the caveats in the documentation: https://pandas.pydata.org/pandas-docs/stable/user_guide/indexing.html#returning-a-view-versus-a-copy\n",
      "  trainDWOEarthQuake['city']=trainDWOEarthQuake['store_nbr'].map(stores.set_index('store_nbr')['city'].to_dict())\n"
     ]
    }
   ],
   "source": [
    "trainDWOEarthQuake['city']=trainDWOEarthQuake['store_nbr'].map(stores.set_index('store_nbr')['city'].to_dict())"
   ]
  },
  {
   "cell_type": "markdown",
   "id": "7e325a09",
   "metadata": {},
   "source": [
    "## Adds \"cluster\""
   ]
  },
  {
   "cell_type": "code",
   "execution_count": 11,
   "id": "0ad13575",
   "metadata": {},
   "outputs": [
    {
     "name": "stderr",
     "output_type": "stream",
     "text": [
      "C:\\Users\\an2fe\\AppData\\Local\\Temp/ipykernel_2260/2008144315.py:1: SettingWithCopyWarning: \n",
      "A value is trying to be set on a copy of a slice from a DataFrame.\n",
      "Try using .loc[row_indexer,col_indexer] = value instead\n",
      "\n",
      "See the caveats in the documentation: https://pandas.pydata.org/pandas-docs/stable/user_guide/indexing.html#returning-a-view-versus-a-copy\n",
      "  trainDWOEarthQuake['cluster']=trainDWOEarthQuake['store_nbr'].map(stores.set_index('store_nbr')['cluster'].to_dict())\n"
     ]
    }
   ],
   "source": [
    "trainDWOEarthQuake['cluster']=trainDWOEarthQuake['store_nbr'].map(stores.set_index('store_nbr')['cluster'].to_dict())"
   ]
  },
  {
   "cell_type": "markdown",
   "id": "1f70b150",
   "metadata": {},
   "source": [
    "## Adds \"oil\""
   ]
  },
  {
   "cell_type": "code",
   "execution_count": 12,
   "id": "2ca642c8",
   "metadata": {},
   "outputs": [
    {
     "name": "stdout",
     "output_type": "stream",
     "text": [
      "<class 'pandas.core.frame.DataFrame'>\n",
      "RangeIndex: 1218 entries, 0 to 1217\n",
      "Data columns (total 2 columns):\n",
      " #   Column      Non-Null Count  Dtype         \n",
      "---  ------      --------------  -----         \n",
      " 0   date        1218 non-null   datetime64[ns]\n",
      " 1   dcoilwtico  1218 non-null   float64       \n",
      "dtypes: datetime64[ns](1), float64(1)\n",
      "memory usage: 19.2 KB\n"
     ]
    }
   ],
   "source": [
    "oil = pd.read_csv('Data/oil.csv',parse_dates=['date'])\n",
    "oil = oil.fillna(method='ffill')\n",
    "oil = oil.fillna(method='bfill')\n",
    "oil.info()"
   ]
  },
  {
   "cell_type": "code",
   "execution_count": 13,
   "id": "86fa21a3",
   "metadata": {
    "scrolled": true
   },
   "outputs": [
    {
     "name": "stderr",
     "output_type": "stream",
     "text": [
      "C:\\Users\\an2fe\\AppData\\Local\\Temp/ipykernel_2260/36724923.py:1: SettingWithCopyWarning: \n",
      "A value is trying to be set on a copy of a slice from a DataFrame.\n",
      "Try using .loc[row_indexer,col_indexer] = value instead\n",
      "\n",
      "See the caveats in the documentation: https://pandas.pydata.org/pandas-docs/stable/user_guide/indexing.html#returning-a-view-versus-a-copy\n",
      "  trainDWOEarthQuake['oil']=trainDWOEarthQuake['date'].map(oil.set_index('date')['dcoilwtico'].to_dict())\n"
     ]
    }
   ],
   "source": [
    "trainDWOEarthQuake['oil']=trainDWOEarthQuake['date'].map(oil.set_index('date')['dcoilwtico'].to_dict())        \n",
    "trainDWOEarthQuake = trainDWOEarthQuake.fillna(method='ffill')"
   ]
  },
  {
   "cell_type": "code",
   "execution_count": 14,
   "id": "8fed4fde",
   "metadata": {},
   "outputs": [
    {
     "name": "stdout",
     "output_type": "stream",
     "text": [
      "<class 'pandas.core.frame.DataFrame'>\n",
      "Int64Index: 2838726 entries, 0 to 3000887\n",
      "Data columns (total 10 columns):\n",
      " #   Column       Dtype         \n",
      "---  ------       -----         \n",
      " 0   id           int64         \n",
      " 1   date         datetime64[ns]\n",
      " 2   store_nbr    int64         \n",
      " 3   family       object        \n",
      " 4   sales        float64       \n",
      " 5   onpromotion  int64         \n",
      " 6   type         object        \n",
      " 7   city         object        \n",
      " 8   cluster      int64         \n",
      " 9   oil          float64       \n",
      "dtypes: datetime64[ns](1), float64(2), int64(4), object(3)\n",
      "memory usage: 238.2+ MB\n",
      "id             0\n",
      "date           0\n",
      "store_nbr      0\n",
      "family         0\n",
      "sales          0\n",
      "onpromotion    0\n",
      "type           0\n",
      "city           0\n",
      "cluster        0\n",
      "oil            0\n",
      "dtype: int64\n"
     ]
    },
    {
     "data": {
      "text/html": [
       "<div>\n",
       "<style scoped>\n",
       "    .dataframe tbody tr th:only-of-type {\n",
       "        vertical-align: middle;\n",
       "    }\n",
       "\n",
       "    .dataframe tbody tr th {\n",
       "        vertical-align: top;\n",
       "    }\n",
       "\n",
       "    .dataframe thead th {\n",
       "        text-align: right;\n",
       "    }\n",
       "</style>\n",
       "<table border=\"1\" class=\"dataframe\">\n",
       "  <thead>\n",
       "    <tr style=\"text-align: right;\">\n",
       "      <th></th>\n",
       "      <th>id</th>\n",
       "      <th>date</th>\n",
       "      <th>store_nbr</th>\n",
       "      <th>family</th>\n",
       "      <th>sales</th>\n",
       "      <th>onpromotion</th>\n",
       "      <th>type</th>\n",
       "      <th>city</th>\n",
       "      <th>cluster</th>\n",
       "      <th>oil</th>\n",
       "    </tr>\n",
       "  </thead>\n",
       "  <tbody>\n",
       "    <tr>\n",
       "      <th>3000878</th>\n",
       "      <td>3000878</td>\n",
       "      <td>2017-08-15</td>\n",
       "      <td>9</td>\n",
       "      <td>MAGAZINES</td>\n",
       "      <td>11.000</td>\n",
       "      <td>0</td>\n",
       "      <td>B</td>\n",
       "      <td>Quito</td>\n",
       "      <td>6</td>\n",
       "      <td>47.57</td>\n",
       "    </tr>\n",
       "    <tr>\n",
       "      <th>3000879</th>\n",
       "      <td>3000879</td>\n",
       "      <td>2017-08-15</td>\n",
       "      <td>9</td>\n",
       "      <td>MEATS</td>\n",
       "      <td>449.228</td>\n",
       "      <td>0</td>\n",
       "      <td>B</td>\n",
       "      <td>Quito</td>\n",
       "      <td>6</td>\n",
       "      <td>47.57</td>\n",
       "    </tr>\n",
       "    <tr>\n",
       "      <th>3000880</th>\n",
       "      <td>3000880</td>\n",
       "      <td>2017-08-15</td>\n",
       "      <td>9</td>\n",
       "      <td>PERSONAL CARE</td>\n",
       "      <td>522.000</td>\n",
       "      <td>11</td>\n",
       "      <td>B</td>\n",
       "      <td>Quito</td>\n",
       "      <td>6</td>\n",
       "      <td>47.57</td>\n",
       "    </tr>\n",
       "    <tr>\n",
       "      <th>3000881</th>\n",
       "      <td>3000881</td>\n",
       "      <td>2017-08-15</td>\n",
       "      <td>9</td>\n",
       "      <td>PET SUPPLIES</td>\n",
       "      <td>6.000</td>\n",
       "      <td>0</td>\n",
       "      <td>B</td>\n",
       "      <td>Quito</td>\n",
       "      <td>6</td>\n",
       "      <td>47.57</td>\n",
       "    </tr>\n",
       "    <tr>\n",
       "      <th>3000882</th>\n",
       "      <td>3000882</td>\n",
       "      <td>2017-08-15</td>\n",
       "      <td>9</td>\n",
       "      <td>PLAYERS AND ELECTRONICS</td>\n",
       "      <td>6.000</td>\n",
       "      <td>0</td>\n",
       "      <td>B</td>\n",
       "      <td>Quito</td>\n",
       "      <td>6</td>\n",
       "      <td>47.57</td>\n",
       "    </tr>\n",
       "    <tr>\n",
       "      <th>3000883</th>\n",
       "      <td>3000883</td>\n",
       "      <td>2017-08-15</td>\n",
       "      <td>9</td>\n",
       "      <td>POULTRY</td>\n",
       "      <td>438.133</td>\n",
       "      <td>0</td>\n",
       "      <td>B</td>\n",
       "      <td>Quito</td>\n",
       "      <td>6</td>\n",
       "      <td>47.57</td>\n",
       "    </tr>\n",
       "    <tr>\n",
       "      <th>3000884</th>\n",
       "      <td>3000884</td>\n",
       "      <td>2017-08-15</td>\n",
       "      <td>9</td>\n",
       "      <td>PREPARED FOODS</td>\n",
       "      <td>154.553</td>\n",
       "      <td>1</td>\n",
       "      <td>B</td>\n",
       "      <td>Quito</td>\n",
       "      <td>6</td>\n",
       "      <td>47.57</td>\n",
       "    </tr>\n",
       "    <tr>\n",
       "      <th>3000885</th>\n",
       "      <td>3000885</td>\n",
       "      <td>2017-08-15</td>\n",
       "      <td>9</td>\n",
       "      <td>PRODUCE</td>\n",
       "      <td>2419.729</td>\n",
       "      <td>148</td>\n",
       "      <td>B</td>\n",
       "      <td>Quito</td>\n",
       "      <td>6</td>\n",
       "      <td>47.57</td>\n",
       "    </tr>\n",
       "    <tr>\n",
       "      <th>3000886</th>\n",
       "      <td>3000886</td>\n",
       "      <td>2017-08-15</td>\n",
       "      <td>9</td>\n",
       "      <td>SCHOOL AND OFFICE SUPPLIES</td>\n",
       "      <td>121.000</td>\n",
       "      <td>8</td>\n",
       "      <td>B</td>\n",
       "      <td>Quito</td>\n",
       "      <td>6</td>\n",
       "      <td>47.57</td>\n",
       "    </tr>\n",
       "    <tr>\n",
       "      <th>3000887</th>\n",
       "      <td>3000887</td>\n",
       "      <td>2017-08-15</td>\n",
       "      <td>9</td>\n",
       "      <td>SEAFOOD</td>\n",
       "      <td>16.000</td>\n",
       "      <td>0</td>\n",
       "      <td>B</td>\n",
       "      <td>Quito</td>\n",
       "      <td>6</td>\n",
       "      <td>47.57</td>\n",
       "    </tr>\n",
       "  </tbody>\n",
       "</table>\n",
       "</div>"
      ],
      "text/plain": [
       "              id       date  store_nbr                      family     sales  \\\n",
       "3000878  3000878 2017-08-15          9                   MAGAZINES    11.000   \n",
       "3000879  3000879 2017-08-15          9                       MEATS   449.228   \n",
       "3000880  3000880 2017-08-15          9               PERSONAL CARE   522.000   \n",
       "3000881  3000881 2017-08-15          9                PET SUPPLIES     6.000   \n",
       "3000882  3000882 2017-08-15          9     PLAYERS AND ELECTRONICS     6.000   \n",
       "3000883  3000883 2017-08-15          9                     POULTRY   438.133   \n",
       "3000884  3000884 2017-08-15          9              PREPARED FOODS   154.553   \n",
       "3000885  3000885 2017-08-15          9                     PRODUCE  2419.729   \n",
       "3000886  3000886 2017-08-15          9  SCHOOL AND OFFICE SUPPLIES   121.000   \n",
       "3000887  3000887 2017-08-15          9                     SEAFOOD    16.000   \n",
       "\n",
       "         onpromotion type   city  cluster    oil  \n",
       "3000878            0    B  Quito        6  47.57  \n",
       "3000879            0    B  Quito        6  47.57  \n",
       "3000880           11    B  Quito        6  47.57  \n",
       "3000881            0    B  Quito        6  47.57  \n",
       "3000882            0    B  Quito        6  47.57  \n",
       "3000883            0    B  Quito        6  47.57  \n",
       "3000884            1    B  Quito        6  47.57  \n",
       "3000885          148    B  Quito        6  47.57  \n",
       "3000886            8    B  Quito        6  47.57  \n",
       "3000887            0    B  Quito        6  47.57  "
      ]
     },
     "execution_count": 14,
     "metadata": {},
     "output_type": "execute_result"
    }
   ],
   "source": [
    "trainDWOEarthQuake.info()\n",
    "print(trainDWOEarthQuake.isnull().sum())\n",
    "trainDWOEarthQuake.tail(10)"
   ]
  },
  {
   "cell_type": "code",
   "execution_count": 15,
   "id": "46cf7cb3",
   "metadata": {},
   "outputs": [],
   "source": [
    "#trainDWOEarthQuake.to_csv('train_sliced.csv')"
   ]
  },
  {
   "cell_type": "markdown",
   "id": "2ef8c0fd",
   "metadata": {},
   "source": [
    "## Encoding"
   ]
  },
  {
   "cell_type": "code",
   "execution_count": 16,
   "id": "fcf40f12",
   "metadata": {},
   "outputs": [],
   "source": [
    "#Categorical encoding for variables with categories\n",
    "\n",
    "#family\n",
    "Xaux = trainDWOEarthQuake['family'].astype('category').cat.codes\n",
    "trainDWOEarthQuake['family'] = Xaux\n",
    "\n",
    "#type\n",
    "Xaux = trainDWOEarthQuake['type'].astype('category').cat.codes\n",
    "trainDWOEarthQuake['type'] = Xaux\n",
    "\n",
    "#city\n",
    "Xaux = trainDWOEarthQuake['city'].astype('category').cat.codes\n",
    "trainDWOEarthQuake['city'] = Xaux"
   ]
  },
  {
   "cell_type": "code",
   "execution_count": 17,
   "id": "502d68f3",
   "metadata": {},
   "outputs": [],
   "source": [
    "#New column day of year type int.  (Month-1)*31 + day\n",
    "#trainDWOEarthQuake['month']=trainDWOEarthQuake.apply(lambda row: (int(row['date'].strftime('%m'))-1)*31 + int(row['date'].strftime('%d')),axis=1)\n"
   ]
  },
  {
   "cell_type": "markdown",
   "id": "92fa3b47",
   "metadata": {},
   "source": [
    "## Final training (X) and result (y) data"
   ]
  },
  {
   "cell_type": "code",
   "execution_count": 19,
   "id": "318596b7",
   "metadata": {},
   "outputs": [],
   "source": [
    "y = trainDWOEarthQuake['sales']\n",
    "X = trainDWOEarthQuake.drop(['id','date','sales'],axis=1)\n",
    "\n",
    "# X = trainDWOEarthQuake.drop(['id','date'],axis=1)\n",
    "# X_aux = X.loc[X['family']==1]\n",
    "# y = X_aux['sales']\n",
    "# X = X_aux.drop(['family','sales'],axis=1)"
   ]
  },
  {
   "cell_type": "markdown",
   "id": "e96234d2",
   "metadata": {},
   "source": [
    "## Training model"
   ]
  },
  {
   "cell_type": "code",
   "execution_count": 20,
   "id": "e887b7d1",
   "metadata": {
    "scrolled": true
   },
   "outputs": [],
   "source": [
    "# Min max normalization.  \n",
    "from sklearn.preprocessing import MinMaxScaler\n",
    "sc = MinMaxScaler()\n",
    "X = sc.fit_transform(X)\n",
    "\n",
    "\n",
    "#Split estratificado 80-20 entre datos de entreanmiento y de testeo\n",
    "from sklearn.model_selection import train_test_split\n",
    "X_train, X_test, y_train, y_test = train_test_split(X, y, test_size=0.2) \n",
    "\n",
    "#y_train = y_train.to_numpy()\n",
    "#X_train = np.concatenate((X_train, y_train[:, None]), axis=1)\n",
    "#X_train = pd.DataFrame(X_train, columns = ['store_nbr', 'onpromotion', 'type', 'city', 'cluster', 'oil','y'])\n",
    "#X_train"
   ]
  },
  {
   "cell_type": "code",
   "execution_count": 21,
   "id": "d9c95b18",
   "metadata": {
    "scrolled": true
   },
   "outputs": [
    {
     "name": "stderr",
     "output_type": "stream",
     "text": [
      "C:\\Users\\an2fe\\anaconda3v2\\lib\\site-packages\\sklearn\\neural_network\\_multilayer_perceptron.py:692: ConvergenceWarning: Stochastic Optimizer: Maximum iterations (2000) reached and the optimization hasn't converged yet.\n",
      "  warnings.warn(\n"
     ]
    }
   ],
   "source": [
    "#MLP Regressor\n",
    "from sklearn.neural_network import MLPRegressor\n",
    "regr = MLPRegressor(random_state=1, max_iter=2000, learning_rate = 'adaptive',activation='logistic').fit(X_train, y_train)\n",
    "\n",
    "#Gradient boosting regressor\n",
    "#from sklearn.ensemble import GradientBoostingRegressor\n",
    "#regr = GradientBoostingRegressor(n_estimators=100, learning_rate=0.2, \n",
    "#                                random_state=0,loss='squared_error').fit(X_train, y_train)\n",
    "\n",
    "#Auto arima\n",
    "# from statsforecast.core import StatsForecast\n",
    "# from statsforecast.models import auto_arima\n",
    "\n",
    "# models = [(auto_arima, 1)]\n",
    "\n",
    "# fcst = StatsForecast(\n",
    "#      X_train, #your data \n",
    "#      models=[auto_arima], \n",
    "#      freq='D', # frequency of your data\n",
    "#      n_jobs=7, # you can also define the number of cores used for parallelizing\n",
    "# )\n"
   ]
  },
  {
   "cell_type": "code",
   "execution_count": 22,
   "id": "2c6b448d",
   "metadata": {
    "scrolled": true
   },
   "outputs": [
    {
     "name": "stdout",
     "output_type": "stream",
     "text": [
      "1737999       9.000\n",
      "671127       10.000\n",
      "25404         0.000\n",
      "1165714      83.000\n",
      "450993        0.000\n",
      "             ...   \n",
      "2570631    1207.568\n",
      "464156        7.000\n",
      "31743         0.000\n",
      "748471        0.000\n",
      "1527250     254.000\n",
      "Name: sales, Length: 567746, dtype: float64 [ 95.0497868  407.69888751  19.92911649 ... 571.59699995 151.8986317\n",
      " 333.78432587]\n",
      "7.379342660020622\n"
     ]
    },
    {
     "ename": "AttributeError",
     "evalue": "'MLPRegressor' object has no attribute 'feature_importances_'",
     "output_type": "error",
     "traceback": [
      "\u001b[1;31m---------------------------------------------------------------------------\u001b[0m",
      "\u001b[1;31mAttributeError\u001b[0m                            Traceback (most recent call last)",
      "\u001b[1;32m~\\AppData\\Local\\Temp/ipykernel_2260/2144557413.py\u001b[0m in \u001b[0;36m<module>\u001b[1;34m\u001b[0m\n\u001b[0;32m     10\u001b[0m \u001b[1;33m\u001b[0m\u001b[0m\n\u001b[0;32m     11\u001b[0m \u001b[0mprint\u001b[0m\u001b[1;33m(\u001b[0m\u001b[0mmean_squared_log_error\u001b[0m\u001b[1;33m(\u001b[0m\u001b[0my_test\u001b[0m\u001b[1;33m,\u001b[0m\u001b[0my_pred\u001b[0m\u001b[1;33m)\u001b[0m\u001b[1;33m)\u001b[0m\u001b[1;33m\u001b[0m\u001b[1;33m\u001b[0m\u001b[0m\n\u001b[1;32m---> 12\u001b[1;33m \u001b[0mprint\u001b[0m\u001b[1;33m(\u001b[0m\u001b[0mregr\u001b[0m\u001b[1;33m.\u001b[0m\u001b[0mfeature_importances_\u001b[0m\u001b[1;33m)\u001b[0m\u001b[1;33m\u001b[0m\u001b[1;33m\u001b[0m\u001b[0m\n\u001b[0m",
      "\u001b[1;31mAttributeError\u001b[0m: 'MLPRegressor' object has no attribute 'feature_importances_'"
     ]
    }
   ],
   "source": [
    "#Test\n",
    "from sklearn.metrics import mean_squared_log_error\n",
    "#regr.score(X_test, y_test)\n",
    "y_pred = regr.predict(X_test)\n",
    "print(y_test,y_pred)\n",
    "\n",
    "for i in range(0,len(y_pred)):\n",
    "    if y_pred[i] < 0:\n",
    "        y_pred[i]=0\n",
    "\n",
    "print(mean_squared_log_error(y_test,y_pred))\n",
    "print(regr.feature_importances_)"
   ]
  },
  {
   "cell_type": "markdown",
   "id": "8c779d27",
   "metadata": {},
   "source": [
    "## Results\n",
    "- GradientBoostingRegressor(n_estimators=100, learning_rate=0.1, max_depth=1,                            random_state=0,loss='squared_error')  - 11.481437551723506\n",
    "- GradientBoostingRegressor(n_estimators=500, learning_rate=0.1, max_depth=1,random_state=0,loss='squared_error') - Negative values\n",
    "- GradientBoostingRegressor(n_estimators=100, learning_rate=0.2, max_depth=1,random_state=0,loss='squared_error') - 10.742646071889427\n",
    "- GradientBoostingRegressor(n_estimators=100, learning_rate=0.2, max_depth=1,                            random_state=0,loss='squared_error').fit(X_train, y_train) -  10.513907932848417.  store_nbr, family, and discount  \n",
    "- store_nbr, family, and discount. Negative values are taken as zero. GradientBoostingRegressor(n_estimators=100, learning_rate=0.2,random_state=0,loss='squared_error') - 4.851900010933088\n",
    "- store_nbr, family, and discount. Negative values are taken as zero. GradientBoostingRegressor(n_estimators=100, learning_rate=1.0,random_state=0,loss='squared_error') - 5.314085562035126\n",
    "- store_nbr, family, and discount. Negative values are taken as zero. GradientBoostingRegressor(n_estimators=100, learning_rate=0.5, random_state=0,loss='squared_error') - 5.035771953379746\n",
    "- store_nbr, family, and discount. Negative values are taken as zero. GradientBoostingRegressor(n_estimators=500, learning_rate=0.2, random_state=0,loss='squared_error') - 4.970273218735189\n",
    "- store_nbr, family, discount, and is_holiday. Negative values are taken as zero. GradientBoostingRegressor(n_estimators=100, learning_rate=0.2, random_state=0,loss='squared_error') - 4.970273218735189\n",
    "- store_nbr, family, discount, and type. Negative values are taken as zero. GradientBoostingRegressor(n_estimators=100, learning_rate=0.2, random_state=0,loss='squared_error') - 4.641656860905568\n",
    "- store_nbr, family, discount, type, city, cluster. Negative values are taken as zero. GradientBoostingRegressor(n_estimators=100, learning_rate=0.2, random_state=0,loss='squared_error') - 4.979573595403314\n",
    "- store_nbr, family, discount, type, city, cluster. Negative values are taken as zero. MLPRegressor(random_state=1, max_iter=2000, learning_rate = 'adaptive',activation='logistic') - 4.979573595403314\n"
   ]
  },
  {
   "cell_type": "code",
   "execution_count": null,
   "id": "85dad769",
   "metadata": {},
   "outputs": [],
   "source": []
  }
 ],
 "metadata": {
  "kernelspec": {
   "display_name": "Python 3 (ipykernel)",
   "language": "python",
   "name": "python3"
  },
  "language_info": {
   "codemirror_mode": {
    "name": "ipython",
    "version": 3
   },
   "file_extension": ".py",
   "mimetype": "text/x-python",
   "name": "python",
   "nbconvert_exporter": "python",
   "pygments_lexer": "ipython3",
   "version": "3.9.7"
  }
 },
 "nbformat": 4,
 "nbformat_minor": 5
}
