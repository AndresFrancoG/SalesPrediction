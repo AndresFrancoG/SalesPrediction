{
 "cells": [
  {
   "cell_type": "markdown",
   "id": "98d41064-dea7-4cba-8348-279fd4590491",
   "metadata": {},
   "source": [
    "# Data Exploration"
   ]
  },
  {
   "cell_type": "markdown",
   "id": "ac2a1d3d-f72d-4869-ab44-c59ec2e309de",
   "metadata": {},
   "source": [
    "## Imports"
   ]
  },
  {
   "cell_type": "code",
   "execution_count": 23,
   "id": "e425604c-b5d5-4b10-8e7a-b121abfb5acf",
   "metadata": {},
   "outputs": [],
   "source": [
    "import pandas as pd\n",
    "import matplotlib.pyplot as plt\n",
    "from datetime import datetime"
   ]
  },
  {
   "cell_type": "markdown",
   "id": "dde80bf9-b245-479d-8892-07e12f9a98f9",
   "metadata": {},
   "source": [
    "## Read data"
   ]
  },
  {
   "cell_type": "code",
   "execution_count": 48,
   "id": "f366a9d7-2b6d-4a60-82c1-a11675698012",
   "metadata": {},
   "outputs": [
    {
     "name": "stdout",
     "output_type": "stream",
     "text": [
      "<class 'pandas.core.frame.DataFrame'>\n",
      "RangeIndex: 3000888 entries, 0 to 3000887\n",
      "Data columns (total 6 columns):\n",
      " #   Column       Dtype         \n",
      "---  ------       -----         \n",
      " 0   id           int64         \n",
      " 1   date         datetime64[ns]\n",
      " 2   store_nbr    int64         \n",
      " 3   family       object        \n",
      " 4   sales        float64       \n",
      " 5   onpromotion  int64         \n",
      "dtypes: datetime64[ns](1), float64(1), int64(3), object(1)\n",
      "memory usage: 137.4+ MB\n"
     ]
    }
   ],
   "source": [
    "trainD = pd.read_csv('Data/train.csv', parse_dates=['date'])\n",
    "trainD.info()"
   ]
  },
  {
   "cell_type": "markdown",
   "id": "bf116d2e-2706-44af-b621-b2cca6900c72",
   "metadata": {},
   "source": [
    "## Basic Exploration"
   ]
  },
  {
   "cell_type": "code",
   "execution_count": null,
   "id": "113c5143-b8d8-43c8-8ddb-f2329a51a94f",
   "metadata": {},
   "outputs": [
    {
     "data": {
      "text/html": [
       "<div>\n",
       "<style scoped>\n",
       "    .dataframe tbody tr th:only-of-type {\n",
       "        vertical-align: middle;\n",
       "    }\n",
       "\n",
       "    .dataframe tbody tr th {\n",
       "        vertical-align: top;\n",
       "    }\n",
       "\n",
       "    .dataframe thead th {\n",
       "        text-align: right;\n",
       "    }\n",
       "</style>\n",
       "<table border=\"1\" class=\"dataframe\">\n",
       "  <thead>\n",
       "    <tr style=\"text-align: right;\">\n",
       "      <th></th>\n",
       "      <th>id</th>\n",
       "      <th>date</th>\n",
       "      <th>store_nbr</th>\n",
       "      <th>family</th>\n",
       "      <th>sales</th>\n",
       "      <th>onpromotion</th>\n",
       "    </tr>\n",
       "  </thead>\n",
       "  <tbody>\n",
       "    <tr>\n",
       "      <th>0</th>\n",
       "      <td>0</td>\n",
       "      <td>2013-01-01</td>\n",
       "      <td>1</td>\n",
       "      <td>AUTOMOTIVE</td>\n",
       "      <td>0</td>\n",
       "      <td>0</td>\n",
       "    </tr>\n",
       "    <tr>\n",
       "      <th>1</th>\n",
       "      <td>1</td>\n",
       "      <td>2013-01-01</td>\n",
       "      <td>1</td>\n",
       "      <td>BABY CARE</td>\n",
       "      <td>0</td>\n",
       "      <td>0</td>\n",
       "    </tr>\n",
       "    <tr>\n",
       "      <th>2</th>\n",
       "      <td>2</td>\n",
       "      <td>2013-01-01</td>\n",
       "      <td>1</td>\n",
       "      <td>BEAUTY</td>\n",
       "      <td>0</td>\n",
       "      <td>0</td>\n",
       "    </tr>\n",
       "    <tr>\n",
       "      <th>3</th>\n",
       "      <td>3</td>\n",
       "      <td>2013-01-01</td>\n",
       "      <td>1</td>\n",
       "      <td>BEVERAGES</td>\n",
       "      <td>0</td>\n",
       "      <td>0</td>\n",
       "    </tr>\n",
       "    <tr>\n",
       "      <th>4</th>\n",
       "      <td>4</td>\n",
       "      <td>2013-01-01</td>\n",
       "      <td>1</td>\n",
       "      <td>BOOKS</td>\n",
       "      <td>0</td>\n",
       "      <td>0</td>\n",
       "    </tr>\n",
       "  </tbody>\n",
       "</table>\n",
       "</div>"
      ],
      "text/plain": [
       "   id       date  store_nbr      family  sales  onpromotion\n",
       "0   0 2013-01-01          1  AUTOMOTIVE      0            0\n",
       "1   1 2013-01-01          1   BABY CARE      0            0\n",
       "2   2 2013-01-01          1      BEAUTY      0            0\n",
       "3   3 2013-01-01          1   BEVERAGES      0            0\n",
       "4   4 2013-01-01          1       BOOKS      0            0"
      ]
     },
     "execution_count": 18,
     "metadata": {},
     "output_type": "execute_result"
    }
   ],
   "source": [
    "trainD.head()"
   ]
  },
  {
   "cell_type": "code",
   "execution_count": 10,
   "id": "d6ffba87-61fb-46c7-ba3c-c702646dda21",
   "metadata": {},
   "outputs": [
    {
     "data": {
      "text/plain": [
       "array(['AUTOMOTIVE', 'BABY CARE', 'BEAUTY', 'BEVERAGES', 'BOOKS',\n",
       "       'BREAD/BAKERY', 'CELEBRATION', 'CLEANING', 'DAIRY', 'DELI', 'EGGS',\n",
       "       'FROZEN FOODS', 'GROCERY I', 'GROCERY II', 'HARDWARE',\n",
       "       'HOME AND KITCHEN I', 'HOME AND KITCHEN II', 'HOME APPLIANCES',\n",
       "       'HOME CARE', 'LADIESWEAR', 'LAWN AND GARDEN', 'LINGERIE',\n",
       "       'LIQUOR,WINE,BEER', 'MAGAZINES', 'MEATS', 'PERSONAL CARE',\n",
       "       'PET SUPPLIES', 'PLAYERS AND ELECTRONICS', 'POULTRY',\n",
       "       'PREPARED FOODS', 'PRODUCE', 'SCHOOL AND OFFICE SUPPLIES',\n",
       "       'SEAFOOD'], dtype=object)"
      ]
     },
     "execution_count": 10,
     "metadata": {},
     "output_type": "execute_result"
    }
   ],
   "source": [
    "trainD.family.unique()"
   ]
  },
  {
   "cell_type": "code",
   "execution_count": 11,
   "id": "6dbf7570-9436-4d35-8ff3-ed6c5f924ad5",
   "metadata": {},
   "outputs": [
    {
     "data": {
      "text/plain": [
       "family\n",
       "AUTOMOTIVE                         5548220\n",
       "BABY CARE                           100510\n",
       "BEAUTY                             3378930\n",
       "BEVERAGES                       2169544860\n",
       "BOOKS                                64380\n",
       "BREAD/BAKERY                   70430616517\n",
       "CELEBRATION                        7611770\n",
       "CLEANING                         975212890\n",
       "DAIRY                            644877090\n",
       "DELI                           46802472659\n",
       "EGGS                             155882960\n",
       "FROZEN FOODS                  127240613908\n",
       "GROCERY I                      59052944929\n",
       "GROCERY II                        19627670\n",
       "HARDWARE                           1034700\n",
       "HOME AND KITCHEN I                18614910\n",
       "HOME AND KITCHEN II               15206700\n",
       "HOME APPLIANCES                     416010\n",
       "HOME CARE                        160227440\n",
       "LADIESWEAR                         6511590\n",
       "LAWN AND GARDEN                    5488420\n",
       "LINGERIE                           6531140\n",
       "LIQUOR,WINE,BEER                  77466400\n",
       "MAGAZINES                          2663590\n",
       "MEATS                         386544996316\n",
       "PERSONAL CARE                    245920510\n",
       "PET SUPPLIES                       3565840\n",
       "PLAYERS AND ELECTRONICS            5626080\n",
       "POULTRY                       392320198212\n",
       "PREPARED FOODS                268893902765\n",
       "PRODUCE                       173217634875\n",
       "SCHOOL AND OFFICE SUPPLIES         2693160\n",
       "SEAFOOD                       198326012120\n",
       "Name: sales, dtype: int64"
      ]
     },
     "execution_count": 11,
     "metadata": {},
     "output_type": "execute_result"
    }
   ],
   "source": [
    "trainD.groupby('family')['sales'].sum()"
   ]
  },
  {
   "cell_type": "code",
   "execution_count": 58,
   "id": "1f1bc885-402d-4e6f-9ab0-2605da27f1f9",
   "metadata": {},
   "outputs": [
    {
     "name": "stdout",
     "output_type": "stream",
     "text": [
      "<class 'pandas.core.frame.DataFrame'>\n",
      "Int64Index: 1679 entries, 1 to 1683\n",
      "Data columns (total 2 columns):\n",
      " #   Column  Non-Null Count  Dtype         \n",
      "---  ------  --------------  -----         \n",
      " 0   date    1679 non-null   datetime64[ns]\n",
      " 1   sales   1679 non-null   float64       \n",
      "dtypes: datetime64[ns](1), float64(1)\n",
      "memory usage: 39.4 KB\n"
     ]
    },
    {
     "data": {
      "image/png": "[encoded data removed]",
      "text/plain": [
       "<Figure size 432x288 with 1 Axes>"
      ]
     },
     "metadata": {
      "needs_background": "light"
     },
     "output_type": "display_data"
    }
   ],
   "source": [
    "salesPdate = trainD.groupby('date',as_index=False)['sales'].sum()\n",
    "salesPdate = salesPdate.drop(salesPdate[salesPdate.sales<50000].index)\n",
    "plt.plot(salesPdate['date'],salesPdate['sales'])\n",
    "salesPdate.info()"
   ]
  },
  {
   "cell_type": "code",
   "execution_count": 28,
   "id": "eff6c628-e9ba-48c7-968e-fb6ec65ce81a",
   "metadata": {},
   "outputs": [
    {
     "data": {
      "text/plain": [
       "date        family                    \n",
       "2013-01-01  AUTOMOTIVE                            0\n",
       "            BABY CARE                             0\n",
       "            BEAUTY                               20\n",
       "            BEVERAGES                          8100\n",
       "            BOOKS                                 0\n",
       "                                            ...    \n",
       "2017-08-15  POULTRY                       143842548\n",
       "            PREPARED FOODS                395528360\n",
       "            PRODUCE                       112067962\n",
       "            SCHOOL AND OFFICE SUPPLIES        25300\n",
       "            SEAFOOD                        90099072\n",
       "Name: sales, Length: 55572, dtype: int64"
      ]
     },
     "execution_count": 28,
     "metadata": {},
     "output_type": "execute_result"
    }
   ],
   "source": [
    "trainD.groupby(['date','family'])['sales'].sum()"
   ]
  },
  {
   "cell_type": "code",
   "execution_count": 59,
   "id": "31ca10ae-fcb5-45ee-9c17-1fc1a2cbb92f",
   "metadata": {},
   "outputs": [
    {
     "name": "stdout",
     "output_type": "stream",
     "text": [
      "<class 'pandas.core.frame.DataFrame'>\n",
      "Int64Index: 1588 entries, 1 to 1683\n",
      "Data columns (total 2 columns):\n",
      " #   Column  Non-Null Count  Dtype         \n",
      "---  ------  --------------  -----         \n",
      " 0   date    1588 non-null   datetime64[ns]\n",
      " 1   sales   1588 non-null   float64       \n",
      "dtypes: datetime64[ns](1), float64(1)\n",
      "memory usage: 37.2 KB\n"
     ]
    },
    {
     "data": {
      "text/plain": [
       "<matplotlib.collections.PathCollection at 0x23998a26d90>"
      ]
     },
     "execution_count": 59,
     "metadata": {},
     "output_type": "execute_result"
    },
    {
     "data": {
      "image/png": "[encoded data removed]",
      "text/plain": [
       "<Figure size 432x288 with 1 Axes>"
      ]
     },
     "metadata": {
      "needs_background": "light"
     },
     "output_type": "display_data"
    }
   ],
   "source": [
    "salesPdateWOQuake = salesPdate[(salesPdate['date'] < '2016-04-16') | (salesPdate['date'] >= '2016-07-16')]\n",
    "salesPdateWOQuake.info()\n",
    "plt.scatter(salesPdateWOQuake['date'],salesPdateWOQuake['sales'])"
   ]
  },
  {
   "cell_type": "code",
   "execution_count": 61,
   "id": "1d66b4ad-94ac-42cb-a947-e65072711930",
   "metadata": {},
   "outputs": [
    {
     "name": "stdout",
     "output_type": "stream",
     "text": [
      "<class 'pandas.core.frame.DataFrame'>\n",
      "Int64Index: 338 entries, 0 to 349\n",
      "Data columns (total 6 columns):\n",
      " #   Column       Non-Null Count  Dtype         \n",
      "---  ------       --------------  -----         \n",
      " 0   date         338 non-null    datetime64[ns]\n",
      " 1   type         338 non-null    object        \n",
      " 2   locale       338 non-null    object        \n",
      " 3   locale_name  338 non-null    object        \n",
      " 4   description  338 non-null    object        \n",
      " 5   transferred  338 non-null    bool          \n",
      "dtypes: bool(1), datetime64[ns](1), object(4)\n",
      "memory usage: 16.2+ KB\n"
     ]
    }
   ],
   "source": [
    "isHoliday = pd.read_csv('Data/holidays_events.csv', parse_dates=['date'])\n",
    "isHoliday = isHoliday.drop(isHoliday[isHoliday.transferred == True].index)\n",
    "isHoliday.info()"
   ]
  },
  {
   "cell_type": "code",
   "execution_count": 83,
   "id": "c3d9a33c-b3c7-4440-8ea9-f73dce3d1f50",
   "metadata": {},
   "outputs": [
    {
     "data": {
      "text/html": [
       "<div>\n",
       "<style scoped>\n",
       "    .dataframe tbody tr th:only-of-type {\n",
       "        vertical-align: middle;\n",
       "    }\n",
       "\n",
       "    .dataframe tbody tr th {\n",
       "        vertical-align: top;\n",
       "    }\n",
       "\n",
       "    .dataframe thead th {\n",
       "        text-align: right;\n",
       "    }\n",
       "</style>\n",
       "<table border=\"1\" class=\"dataframe\">\n",
       "  <thead>\n",
       "    <tr style=\"text-align: right;\">\n",
       "      <th></th>\n",
       "      <th>date</th>\n",
       "      <th>sales</th>\n",
       "      <th>is_Holiday</th>\n",
       "      <th>is_holiday</th>\n",
       "    </tr>\n",
       "  </thead>\n",
       "  <tbody>\n",
       "    <tr>\n",
       "      <th>1</th>\n",
       "      <td>2013-01-02</td>\n",
       "      <td>496092.417944</td>\n",
       "      <td>False</td>\n",
       "      <td>False</td>\n",
       "    </tr>\n",
       "    <tr>\n",
       "      <th>2</th>\n",
       "      <td>2013-01-03</td>\n",
       "      <td>361461.231124</td>\n",
       "      <td>False</td>\n",
       "      <td>False</td>\n",
       "    </tr>\n",
       "    <tr>\n",
       "      <th>3</th>\n",
       "      <td>2013-01-04</td>\n",
       "      <td>354459.677093</td>\n",
       "      <td>False</td>\n",
       "      <td>False</td>\n",
       "    </tr>\n",
       "    <tr>\n",
       "      <th>4</th>\n",
       "      <td>2013-01-05</td>\n",
       "      <td>477350.121229</td>\n",
       "      <td>False</td>\n",
       "      <td>True</td>\n",
       "    </tr>\n",
       "    <tr>\n",
       "      <th>5</th>\n",
       "      <td>2013-01-06</td>\n",
       "      <td>519695.401088</td>\n",
       "      <td>False</td>\n",
       "      <td>False</td>\n",
       "    </tr>\n",
       "  </tbody>\n",
       "</table>\n",
       "</div>"
      ],
      "text/plain": [
       "        date          sales  is_Holiday  is_holiday\n",
       "1 2013-01-02  496092.417944       False       False\n",
       "2 2013-01-03  361461.231124       False       False\n",
       "3 2013-01-04  354459.677093       False       False\n",
       "4 2013-01-05  477350.121229       False        True\n",
       "5 2013-01-06  519695.401088       False       False"
      ]
     },
     "execution_count": 83,
     "metadata": {},
     "output_type": "execute_result"
    }
   ],
   "source": [
    "#salesPdateWOQuake['is_Holiday'] = [True if x in isHoliday['date'] else False for x in salesPdateWOQuake['date']]\n",
    "salesPdateWOQuake = salesPdateWOQuake.assign(is_holiday=False)\n",
    "salesPdateWOQuake.loc[salesPdateWOQuake.apply(lambda x: x.date in isHoliday['date'].to_list(), axis=1), 'is_holiday'] = True\n",
    "salesPdateWOQuake.head()"
   ]
  }
 ],
 "metadata": {
  "kernelspec": {
   "display_name": "Python 3 (ipykernel)",
   "language": "python",
   "name": "python3"
  },
  "language_info": {
   "codemirror_mode": {
    "name": "ipython",
    "version": 3
   },
   "file_extension": ".py",
   "mimetype": "text/x-python",
   "name": "python",
   "nbconvert_exporter": "python",
   "pygments_lexer": "ipython3",
   "version": "3.9.7"
  }
 },
 "nbformat": 4,
 "nbformat_minor": 5
}
